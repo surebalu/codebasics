{
 "cells": [
  {
   "cell_type": "markdown",
   "id": "1c1c5f3e",
   "metadata": {},
   "source": [
    "<h2 align=\"center\" style=\"color:blue\">Codebasics Python Course: pydantic Tutorial</h2>"
   ]
  },
  {
   "cell_type": "markdown",
   "id": "49c63fc1",
   "metadata": {},
   "source": [
    "Pydantic is a data validation library for Python that allows you to define data models with strict type checks."
   ]
  },
  {
   "cell_type": "markdown",
   "id": "def22161",
   "metadata": {},
   "source": [
    "#### Create a model for User "
   ]
  },
  {
   "cell_type": "code",
   "execution_count": 3,
   "id": "48468715",
   "metadata": {},
   "outputs": [],
   "source": [
    "from pydantic import BaseModel\n",
    "\n",
    "class User(BaseModel):\n",
    "    id: int\n",
    "    name: str\n",
    "    age: int\n",
    "    email: str"
   ]
  },
  {
   "cell_type": "code",
   "execution_count": 4,
   "id": "90269348",
   "metadata": {},
   "outputs": [
    {
     "data": {
      "text/plain": [
       "User(id=3, name='Dhaval Patel', age=30, email='dhaval@xyz.com')"
      ]
     },
     "execution_count": 4,
     "metadata": {},
     "output_type": "execute_result"
    }
   ],
   "source": [
    "User(id=3, name=\"Dhaval Patel\", age=30, email=\"dhaval@xyz.com\")"
   ]
  },
  {
   "cell_type": "markdown",
   "id": "6622bd21",
   "metadata": {},
   "source": [
    "#### It will throw an error when a field is missing"
   ]
  },
  {
   "cell_type": "code",
   "execution_count": 15,
   "id": "a730cc66",
   "metadata": {
    "scrolled": true
   },
   "outputs": [
    {
     "ename": "ValidationError",
     "evalue": "2 validation errors for User\nage\n  field required (type=value_error.missing)\nemail\n  field required (type=value_error.missing)",
     "output_type": "error",
     "traceback": [
      "\u001b[1;31m---------------------------------------------------------------------------\u001b[0m",
      "\u001b[1;31mValidationError\u001b[0m                           Traceback (most recent call last)",
      "Cell \u001b[1;32mIn[15], line 3\u001b[0m\n\u001b[0;32m      1\u001b[0m \u001b[38;5;28;01mfrom\u001b[39;00m \u001b[38;5;21;01mpydantic\u001b[39;00m \u001b[38;5;28;01mimport\u001b[39;00m ValidationError\n\u001b[1;32m----> 3\u001b[0m user \u001b[38;5;241m=\u001b[39m \u001b[43mUser\u001b[49m\u001b[43m(\u001b[49m\u001b[38;5;28;43mid\u001b[39;49m\u001b[38;5;241;43m=\u001b[39;49m\u001b[38;5;241;43m3\u001b[39;49m\u001b[43m,\u001b[49m\u001b[43m \u001b[49m\u001b[43mname\u001b[49m\u001b[38;5;241;43m=\u001b[39;49m\u001b[38;5;124;43m\"\u001b[39;49m\u001b[38;5;124;43mDhaval Patel\u001b[39;49m\u001b[38;5;124;43m\"\u001b[39;49m\u001b[43m)\u001b[49m\n",
      "File \u001b[1;32m~\\AppData\\Local\\Programs\\Python\\Python310\\lib\\site-packages\\pydantic\\main.py:341\u001b[0m, in \u001b[0;36mpydantic.main.BaseModel.__init__\u001b[1;34m()\u001b[0m\n",
      "\u001b[1;31mValidationError\u001b[0m: 2 validation errors for User\nage\n  field required (type=value_error.missing)\nemail\n  field required (type=value_error.missing)"
     ]
    }
   ],
   "source": [
    "from pydantic import ValidationError\n",
    "\n",
    "user = User(id=3, name=\"Dhaval Patel\")"
   ]
  },
  {
   "cell_type": "markdown",
   "id": "4fb3b162",
   "metadata": {},
   "source": [
    "#### It will throw error when invalid data type is passed"
   ]
  },
  {
   "cell_type": "code",
   "execution_count": 12,
   "id": "ed80d003",
   "metadata": {
    "scrolled": true
   },
   "outputs": [
    {
     "ename": "ValidationError",
     "evalue": "1 validation error for User\nage\n  value is not a valid integer (type=type_error.integer)",
     "output_type": "error",
     "traceback": [
      "\u001b[1;31m---------------------------------------------------------------------------\u001b[0m",
      "\u001b[1;31mValidationError\u001b[0m                           Traceback (most recent call last)",
      "Cell \u001b[1;32mIn[12], line 1\u001b[0m\n\u001b[1;32m----> 1\u001b[0m \u001b[43mUser\u001b[49m\u001b[43m(\u001b[49m\u001b[38;5;28;43mid\u001b[39;49m\u001b[38;5;241;43m=\u001b[39;49m\u001b[38;5;241;43m3\u001b[39;49m\u001b[43m,\u001b[49m\u001b[43m \u001b[49m\u001b[43mname\u001b[49m\u001b[38;5;241;43m=\u001b[39;49m\u001b[38;5;124;43m\"\u001b[39;49m\u001b[38;5;124;43mDhaval Patel\u001b[39;49m\u001b[38;5;124;43m\"\u001b[39;49m\u001b[43m,\u001b[49m\u001b[43m \u001b[49m\u001b[43mage\u001b[49m\u001b[38;5;241;43m=\u001b[39;49m\u001b[38;5;124;43m\"\u001b[39;49m\u001b[38;5;124;43m30 years\u001b[39;49m\u001b[38;5;124;43m\"\u001b[39;49m\u001b[43m,\u001b[49m\u001b[43m \u001b[49m\u001b[43memail\u001b[49m\u001b[38;5;241;43m=\u001b[39;49m\u001b[38;5;124;43m\"\u001b[39;49m\u001b[38;5;124;43mdhaval@xyz.com\u001b[39;49m\u001b[38;5;124;43m\"\u001b[39;49m\u001b[43m)\u001b[49m\n",
      "File \u001b[1;32m~\\AppData\\Local\\Programs\\Python\\Python310\\lib\\site-packages\\pydantic\\main.py:341\u001b[0m, in \u001b[0;36mpydantic.main.BaseModel.__init__\u001b[1;34m()\u001b[0m\n",
      "\u001b[1;31mValidationError\u001b[0m: 1 validation error for User\nage\n  value is not a valid integer (type=type_error.integer)"
     ]
    }
   ],
   "source": [
    "User(id=3, name=\"Dhaval Patel\", age=\"30 years\", email=\"dhaval@xyz.com\")"
   ]
  },
  {
   "cell_type": "markdown",
   "id": "6c0a0a22",
   "metadata": {},
   "source": [
    "#### Whenever possible it will handle automatic type conversion"
   ]
  },
  {
   "cell_type": "code",
   "execution_count": 11,
   "id": "34c2ffb4",
   "metadata": {},
   "outputs": [
    {
     "data": {
      "text/plain": [
       "User(id=3, name='Dhaval Patel', age=30, email='dhaval@xyz.com', address=None)"
      ]
     },
     "execution_count": 11,
     "metadata": {},
     "output_type": "execute_result"
    }
   ],
   "source": [
    "User(id=3, name=\"Dhaval Patel\", age=\"30\", email=\"dhaval@xyz.com\")"
   ]
  },
  {
   "cell_type": "markdown",
   "id": "1b1d6a48",
   "metadata": {},
   "source": [
    "#### Optional fields"
   ]
  },
  {
   "cell_type": "code",
   "execution_count": 14,
   "id": "89fca738",
   "metadata": {},
   "outputs": [
    {
     "name": "stdout",
     "output_type": "stream",
     "text": [
      "id=3 name='Dhaval Patel' age=30 email='dhaval@xyz.com' address=None\n"
     ]
    }
   ],
   "source": [
    "from typing import Optional\n",
    "\n",
    "class User(BaseModel):\n",
    "    id: int\n",
    "    name: str\n",
    "    age: int\n",
    "    email: str\n",
    "    address: Optional[str] = None\n",
    "\n",
    "user = User(id=3, name=\"Dhaval Patel\", age=30, email=\"dhaval@xyz.com\")\n",
    "print(user)"
   ]
  }
 ],
 "metadata": {
  "kernelspec": {
   "display_name": "Python 3 (ipykernel)",
   "language": "python",
   "name": "python3"
  },
  "language_info": {
   "codemirror_mode": {
    "name": "ipython",
    "version": 3
   },
   "file_extension": ".py",
   "mimetype": "text/x-python",
   "name": "python",
   "nbconvert_exporter": "python",
   "pygments_lexer": "ipython3",
   "version": "3.10.11"
  }
 },
 "nbformat": 4,
 "nbformat_minor": 5
}
