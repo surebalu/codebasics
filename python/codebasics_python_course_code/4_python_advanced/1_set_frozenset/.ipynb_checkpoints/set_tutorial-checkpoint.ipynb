{
 "cells": [
  {
   "cell_type": "markdown",
   "id": "ca49a7c5",
   "metadata": {},
   "source": [
    "<h2 style=\"color:blue\" align=\"center\">Codebasics Python Tutorial: Set & Frozenset</h2>"
   ]
  },
  {
   "cell_type": "markdown",
   "id": "e5c23e2c",
   "metadata": {},
   "source": [
    "Sets are unordered collections of items where duplicates are not allowed, making them ideal for situations where you need to ensure uniqueness or perform efficient membership tests."
   ]
  },
  {
   "cell_type": "code",
   "execution_count": 1,
   "id": "5c5f8a49",
   "metadata": {
    "scrolled": true
   },
   "outputs": [
    {
     "data": {
      "text/plain": [
       "{1, 2, 3, 4}"
      ]
     },
     "execution_count": 1,
     "metadata": {},
     "output_type": "execute_result"
    }
   ],
   "source": [
    "myset = set([1,2,3,2,3,4])\n",
    "myset"
   ]
  },
  {
   "cell_type": "markdown",
   "id": "a6e072fb",
   "metadata": {},
   "source": [
    "As you can see above it removed the duplicates and it keeps only unique elements"
   ]
  },
  {
   "cell_type": "code",
   "execution_count": 2,
   "id": "e8baea83",
   "metadata": {
    "scrolled": true
   },
   "outputs": [
    {
     "ename": "TypeError",
     "evalue": "'set' object is not subscriptable",
     "output_type": "error",
     "traceback": [
      "\u001b[1;31m---------------------------------------------------------------------------\u001b[0m",
      "\u001b[1;31mTypeError\u001b[0m                                 Traceback (most recent call last)",
      "Cell \u001b[1;32mIn[2], line 1\u001b[0m\n\u001b[1;32m----> 1\u001b[0m \u001b[43mmyset\u001b[49m\u001b[43m[\u001b[49m\u001b[38;5;241;43m0\u001b[39;49m\u001b[43m]\u001b[49m\n",
      "\u001b[1;31mTypeError\u001b[0m: 'set' object is not subscriptable"
     ]
    }
   ],
   "source": [
    "myset[0]"
   ]
  },
  {
   "cell_type": "markdown",
   "id": "9fe07423",
   "metadata": {},
   "source": [
    "As you can see above, there is no order to elements. It is an unordered collection of items"
   ]
  },
  {
   "cell_type": "code",
   "execution_count": 3,
   "id": "29964a1e",
   "metadata": {},
   "outputs": [],
   "source": [
    "# Other way to initialise the set\n",
    "myset = {1,2,3,4}"
   ]
  },
  {
   "cell_type": "markdown",
   "id": "c08de9c4",
   "metadata": {},
   "source": [
    "### in, add, remove"
   ]
  },
  {
   "cell_type": "code",
   "execution_count": 4,
   "id": "8c13b2be",
   "metadata": {},
   "outputs": [
    {
     "data": {
      "text/plain": [
       "{'Biryani', 'Dosa', 'Idli'}"
      ]
     },
     "execution_count": 4,
     "metadata": {},
     "output_type": "execute_result"
    }
   ],
   "source": [
    "menu = set([\"Dosa\", \"Idli\", \"Biryani\"])\n",
    "menu"
   ]
  },
  {
   "cell_type": "code",
   "execution_count": 5,
   "id": "064b52e3",
   "metadata": {},
   "outputs": [
    {
     "data": {
      "text/plain": [
       "True"
      ]
     },
     "execution_count": 5,
     "metadata": {},
     "output_type": "execute_result"
    }
   ],
   "source": [
    "'Dosa' in menu"
   ]
  },
  {
   "cell_type": "code",
   "execution_count": 6,
   "id": "18631489",
   "metadata": {},
   "outputs": [
    {
     "data": {
      "text/plain": [
       "False"
      ]
     },
     "execution_count": 6,
     "metadata": {},
     "output_type": "execute_result"
    }
   ],
   "source": [
    "'Burger' in menu"
   ]
  },
  {
   "cell_type": "code",
   "execution_count": 7,
   "id": "705c2a45",
   "metadata": {},
   "outputs": [
    {
     "data": {
      "text/plain": [
       "{'Biryani', 'Dosa', 'Idli', 'Pizza'}"
      ]
     },
     "execution_count": 7,
     "metadata": {},
     "output_type": "execute_result"
    }
   ],
   "source": [
    "menu.add(\"Pizza\")\n",
    "menu"
   ]
  },
  {
   "cell_type": "code",
   "execution_count": 8,
   "id": "ff600ed3",
   "metadata": {},
   "outputs": [
    {
     "data": {
      "text/plain": [
       "{'Dosa', 'Idli', 'Pizza'}"
      ]
     },
     "execution_count": 8,
     "metadata": {},
     "output_type": "execute_result"
    }
   ],
   "source": [
    "menu.remove(\"Biryani\")\n",
    "menu"
   ]
  },
  {
   "cell_type": "markdown",
   "id": "000a4a6e",
   "metadata": {},
   "source": [
    "### Frozenset"
   ]
  },
  {
   "cell_type": "markdown",
   "id": "0295ad98",
   "metadata": {},
   "source": [
    "Frozenset is immutable and will not allow update of elements"
   ]
  },
  {
   "cell_type": "code",
   "execution_count": 9,
   "id": "6d10f5c5",
   "metadata": {
    "scrolled": true
   },
   "outputs": [
    {
     "data": {
      "text/plain": [
       "frozenset({'Biryani', 'Dosa', 'Idli'})"
      ]
     },
     "execution_count": 9,
     "metadata": {},
     "output_type": "execute_result"
    }
   ],
   "source": [
    "menu = frozenset([\"Dosa\", \"Idli\", \"Biryani\"])\n",
    "menu"
   ]
  },
  {
   "cell_type": "code",
   "execution_count": 10,
   "id": "8063a8d3",
   "metadata": {},
   "outputs": [
    {
     "ename": "AttributeError",
     "evalue": "'frozenset' object has no attribute 'add'",
     "output_type": "error",
     "traceback": [
      "\u001b[1;31m---------------------------------------------------------------------------\u001b[0m",
      "\u001b[1;31mAttributeError\u001b[0m                            Traceback (most recent call last)",
      "Cell \u001b[1;32mIn[10], line 1\u001b[0m\n\u001b[1;32m----> 1\u001b[0m \u001b[43mmenu\u001b[49m\u001b[38;5;241;43m.\u001b[39;49m\u001b[43madd\u001b[49m(\u001b[38;5;124m\"\u001b[39m\u001b[38;5;124mpizza\u001b[39m\u001b[38;5;124m\"\u001b[39m)\n",
      "\u001b[1;31mAttributeError\u001b[0m: 'frozenset' object has no attribute 'add'"
     ]
    }
   ],
   "source": [
    "menu.add(\"pizza\")"
   ]
  },
  {
   "cell_type": "markdown",
   "id": "4edb8293",
   "metadata": {},
   "source": [
    "### Retrieve unique customers names from transactions records"
   ]
  },
  {
   "cell_type": "code",
   "execution_count": 11,
   "id": "31e1a9fc",
   "metadata": {},
   "outputs": [],
   "source": [
    "transactions = [\n",
    "    {'customer_name': \"Mira\", \"amount\": 56, \"date\": \"2024-08-01\"},\n",
    "    {'customer_name': \"Mira\", \"amount\": 12.3, \"date\": \"2024-09-05\"},\n",
    "    {'customer_name': \"Mohan\", \"amount\": 21, \"date\": \"2024-09-03\"},\n",
    "    {'customer_name': \"Mohan\", \"amount\": 36.8, \"date\": \"2024-09-10\"},\n",
    "    {'customer_name': \"Lucy\", \"amount\": 66.3, \"date\": \"2024-09-10\"}\n",
    "]"
   ]
  },
  {
   "cell_type": "code",
   "execution_count": 12,
   "id": "9be1b9e3",
   "metadata": {},
   "outputs": [
    {
     "data": {
      "text/plain": [
       "{'Lucy', 'Mira', 'Mohan'}"
      ]
     },
     "execution_count": 12,
     "metadata": {},
     "output_type": "execute_result"
    }
   ],
   "source": [
    "customers = set()\n",
    "\n",
    "for trans in transactions:\n",
    "    customers.add(trans['customer_name'])\n",
    "    \n",
    "customers"
   ]
  },
  {
   "cell_type": "code",
   "execution_count": 13,
   "id": "f471b420",
   "metadata": {
    "scrolled": true
   },
   "outputs": [
    {
     "data": {
      "text/plain": [
       "['Mira', 'Lucy', 'Mohan']"
      ]
     },
     "execution_count": 13,
     "metadata": {},
     "output_type": "execute_result"
    }
   ],
   "source": [
    "customers_list = list(customers)\n",
    "customers_list"
   ]
  },
  {
   "cell_type": "markdown",
   "id": "d02ce8c4",
   "metadata": {},
   "source": [
    "### Intersection, Union, Substraction etc"
   ]
  },
  {
   "cell_type": "code",
   "execution_count": 14,
   "id": "2e86d5a3",
   "metadata": {},
   "outputs": [],
   "source": [
    "a = {\"Mira\", \"Mohan\", \"Lucy\", \"Ahmed\"}\n",
    "b = {\"Chen\", \"Mohan\", \"Radha\", \"Maria\"}"
   ]
  },
  {
   "cell_type": "markdown",
   "id": "46e5a02c",
   "metadata": {},
   "source": [
    "#### Find common students"
   ]
  },
  {
   "cell_type": "code",
   "execution_count": 15,
   "id": "a29004ea",
   "metadata": {},
   "outputs": [
    {
     "data": {
      "text/plain": [
       "{'Mohan'}"
      ]
     },
     "execution_count": 15,
     "metadata": {},
     "output_type": "execute_result"
    }
   ],
   "source": [
    "common_students = a & b\n",
    "common_students"
   ]
  },
  {
   "cell_type": "code",
   "execution_count": 16,
   "id": "1371c5b6",
   "metadata": {},
   "outputs": [
    {
     "data": {
      "text/plain": [
       "{'Mohan'}"
      ]
     },
     "execution_count": 16,
     "metadata": {},
     "output_type": "execute_result"
    }
   ],
   "source": [
    "# same thing can be done using intersection function\n",
    "a.intersection(b)"
   ]
  },
  {
   "cell_type": "markdown",
   "id": "7f0660e8",
   "metadata": {},
   "source": [
    "#### Find all students"
   ]
  },
  {
   "cell_type": "code",
   "execution_count": 17,
   "id": "bb145882",
   "metadata": {},
   "outputs": [
    {
     "data": {
      "text/plain": [
       "{'Ahmed', 'Chen', 'Lucy', 'Maria', 'Mira', 'Mohan', 'Radha'}"
      ]
     },
     "execution_count": 17,
     "metadata": {},
     "output_type": "execute_result"
    }
   ],
   "source": [
    "all_students = a | b\n",
    "all_students"
   ]
  },
  {
   "cell_type": "code",
   "execution_count": 18,
   "id": "e50d7d1e",
   "metadata": {},
   "outputs": [
    {
     "data": {
      "text/plain": [
       "{'Ahmed', 'Chen', 'Lucy', 'Maria', 'Mira', 'Mohan', 'Radha'}"
      ]
     },
     "execution_count": 18,
     "metadata": {},
     "output_type": "execute_result"
    }
   ],
   "source": [
    "# same thing can be done using union function\n",
    "a.union(b)"
   ]
  },
  {
   "cell_type": "markdown",
   "id": "29c30fa1",
   "metadata": {},
   "source": [
    "#### Find students who participated in class a but not in b"
   ]
  },
  {
   "cell_type": "code",
   "execution_count": 19,
   "id": "8e688d75",
   "metadata": {
    "scrolled": false
   },
   "outputs": [
    {
     "data": {
      "text/plain": [
       "{'Ahmed', 'Lucy', 'Mira'}"
      ]
     },
     "execution_count": 19,
     "metadata": {},
     "output_type": "execute_result"
    }
   ],
   "source": [
    "a - b"
   ]
  },
  {
   "cell_type": "markdown",
   "id": "8cb38f9f",
   "metadata": {},
   "source": [
    "Regular set allows to add or remove items"
   ]
  }
 ],
 "metadata": {
  "kernelspec": {
   "display_name": "Python 3 (ipykernel)",
   "language": "python",
   "name": "python3"
  },
  "language_info": {
   "codemirror_mode": {
    "name": "ipython",
    "version": 3
   },
   "file_extension": ".py",
   "mimetype": "text/x-python",
   "name": "python",
   "nbconvert_exporter": "python",
   "pygments_lexer": "ipython3",
   "version": "3.10.11"
  }
 },
 "nbformat": 4,
 "nbformat_minor": 5
}
