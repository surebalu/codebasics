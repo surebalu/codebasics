{
 "cells": [
  {
   "cell_type": "markdown",
   "id": "8ae4a985",
   "metadata": {},
   "source": [
    "<h2 align=\"center\" style=\"color:blue\">Codebasics Python Course: Interacting with API Tutorial</h2>"
   ]
  },
  {
   "cell_type": "code",
   "execution_count": 1,
   "id": "4cd401c6",
   "metadata": {},
   "outputs": [],
   "source": [
    "import requests"
   ]
  },
  {
   "cell_type": "markdown",
   "id": "4f708ddb",
   "metadata": {},
   "source": [
    "### GET Request"
   ]
  },
  {
   "cell_type": "code",
   "execution_count": 3,
   "id": "49a155bb",
   "metadata": {},
   "outputs": [
    {
     "data": {
      "text/plain": [
       "<Response [200]>"
      ]
     },
     "execution_count": 3,
     "metadata": {},
     "output_type": "execute_result"
    }
   ],
   "source": [
    "# URL of the API endpoint\n",
    "url = \"https://jsonplaceholder.typicode.com/posts\"\n",
    "\n",
    "# Sending a GET request\n",
    "response = requests.get(url)\n",
    "response"
   ]
  },
  {
   "cell_type": "code",
   "execution_count": 4,
   "id": "3ce7082f",
   "metadata": {},
   "outputs": [
    {
     "data": {
      "text/plain": [
       "['__attrs__',\n",
       " '__bool__',\n",
       " '__class__',\n",
       " '__delattr__',\n",
       " '__dict__',\n",
       " '__dir__',\n",
       " '__doc__',\n",
       " '__enter__',\n",
       " '__eq__',\n",
       " '__exit__',\n",
       " '__format__',\n",
       " '__ge__',\n",
       " '__getattribute__',\n",
       " '__getstate__',\n",
       " '__gt__',\n",
       " '__hash__',\n",
       " '__init__',\n",
       " '__init_subclass__',\n",
       " '__iter__',\n",
       " '__le__',\n",
       " '__lt__',\n",
       " '__module__',\n",
       " '__ne__',\n",
       " '__new__',\n",
       " '__nonzero__',\n",
       " '__reduce__',\n",
       " '__reduce_ex__',\n",
       " '__repr__',\n",
       " '__setattr__',\n",
       " '__setstate__',\n",
       " '__sizeof__',\n",
       " '__str__',\n",
       " '__subclasshook__',\n",
       " '__weakref__',\n",
       " '_content',\n",
       " '_content_consumed',\n",
       " '_next',\n",
       " 'apparent_encoding',\n",
       " 'close',\n",
       " 'connection',\n",
       " 'content',\n",
       " 'cookies',\n",
       " 'elapsed',\n",
       " 'encoding',\n",
       " 'headers',\n",
       " 'history',\n",
       " 'is_permanent_redirect',\n",
       " 'is_redirect',\n",
       " 'iter_content',\n",
       " 'iter_lines',\n",
       " 'json',\n",
       " 'links',\n",
       " 'next',\n",
       " 'ok',\n",
       " 'raise_for_status',\n",
       " 'raw',\n",
       " 'reason',\n",
       " 'request',\n",
       " 'status_code',\n",
       " 'text',\n",
       " 'url']"
      ]
     },
     "execution_count": 4,
     "metadata": {},
     "output_type": "execute_result"
    }
   ],
   "source": [
    "dir(response)"
   ]
  },
  {
   "cell_type": "code",
   "execution_count": 5,
   "id": "5c7b2486",
   "metadata": {},
   "outputs": [
    {
     "name": "stdout",
     "output_type": "stream",
     "text": [
      "{'userId': 1, 'id': 1, 'title': 'sunt aut facere repellat provident occaecati excepturi optio reprehenderit', 'body': 'quia et suscipit\\nsuscipit recusandae consequuntur expedita et cum\\nreprehenderit molestiae ut ut quas totam\\nnostrum rerum est autem sunt rem eveniet architecto'}\n"
     ]
    }
   ],
   "source": [
    "# Checking the status code of the response\n",
    "if response.status_code == 200:\n",
    "    # Parsing the JSON data\n",
    "    data = response.json()\n",
    "    # Printing the first post\n",
    "    print(data[0])\n",
    "else:\n",
    "    print(\"Failed to retrieve data\")"
   ]
  },
  {
   "cell_type": "markdown",
   "id": "70a2c976",
   "metadata": {},
   "source": [
    "### POST Request"
   ]
  },
  {
   "cell_type": "code",
   "execution_count": 9,
   "id": "3d99bb9e",
   "metadata": {},
   "outputs": [
    {
     "name": "stdout",
     "output_type": "stream",
     "text": [
      "{'title': 'foo', 'body': 'bar', 'userId': 1, 'id': 101}\n"
     ]
    }
   ],
   "source": [
    "# URL of the API endpoint\n",
    "url = \"https://jsonplaceholder.typicode.com/posts\"\n",
    "\n",
    "# Data to send in the POST request\n",
    "data = {\n",
    "    \"title\": \"foo\",\n",
    "    \"body\": \"bar\",\n",
    "    \"userId\": 1\n",
    "}\n",
    "\n",
    "# Sending a POST request\n",
    "response = requests.post(url, json=data)\n",
    "\n",
    "# Checking the status code of the response\n",
    "if response.status_code == 201:\n",
    "    # Parsing the JSON data\n",
    "    created_post = response.json()\n",
    "    # Printing the created post\n",
    "    print(created_post)\n",
    "else:\n",
    "    print(\"Failed to create data\")"
   ]
  },
  {
   "cell_type": "markdown",
   "id": "bc49d5fe",
   "metadata": {},
   "source": [
    "#### Common Status Codes\n",
    "\n",
    "1. 200: OK (The request was successful).\n",
    "1. 201: Created (The resource was successfully created).\n",
    "1. 400: Bad Request (The server could not understand the request).\n",
    "1. 401: Unauthorized (Authentication is required).\n",
    "1. 404: Not Found (The requested resource could not be found).\n",
    "1. 500: Internal Server Error (The server encountered an error)."
   ]
  },
  {
   "cell_type": "markdown",
   "id": "415b7a45",
   "metadata": {},
   "source": [
    "### Handling Different Status Codes"
   ]
  },
  {
   "cell_type": "code",
   "execution_count": 10,
   "id": "a3be9742",
   "metadata": {
    "scrolled": true
   },
   "outputs": [
    {
     "name": "stdout",
     "output_type": "stream",
     "text": [
      "Request was successful!\n",
      "{'userId': 1, 'id': 1, 'title': 'sunt aut facere repellat provident occaecati excepturi optio reprehenderit', 'body': 'quia et suscipit\\nsuscipit recusandae consequuntur expedita et cum\\nreprehenderit molestiae ut ut quas totam\\nnostrum rerum est autem sunt rem eveniet architecto'}\n"
     ]
    }
   ],
   "source": [
    "# URL of the API endpoint\n",
    "url = \"https://jsonplaceholder.typicode.com/posts/1\"\n",
    "\n",
    "# Sending a GET request\n",
    "response = requests.get(url)\n",
    "\n",
    "# Handling different status codes\n",
    "if response.status_code == 200:\n",
    "    print(\"Request was successful!\")\n",
    "    print(response.json())\n",
    "elif response.status_code == 404:\n",
    "    print(\"Resource not found.\")\n",
    "else:\n",
    "    print(f\"Failed with status code: {response.status_code}\")"
   ]
  },
  {
   "cell_type": "markdown",
   "id": "3a3d4485",
   "metadata": {},
   "source": [
    "### Send Query Parameter"
   ]
  },
  {
   "cell_type": "code",
   "execution_count": 19,
   "id": "14ea29eb",
   "metadata": {},
   "outputs": [
    {
     "name": "stdout",
     "output_type": "stream",
     "text": [
      "[{'userId': 1, 'id': 1, 'title': 'sunt aut facere repellat provident occaecati excepturi optio reprehenderit', 'body': 'quia et suscipit\\nsuscipit recusandae consequuntur expedita et cum\\nreprehenderit molestiae ut ut quas totam\\nnostrum rerum est autem sunt rem eveniet architecto'}, {'userId': 1, 'id': 2, 'title': 'qui est esse', 'body': 'est rerum tempore vitae\\nsequi sint nihil reprehenderit dolor beatae ea dolores neque\\nfugiat blanditiis voluptate porro vel nihil molestiae ut reiciendis\\nqui aperiam non debitis possimus qui neque nisi nulla'}, {'userId': 1, 'id': 3, 'title': 'ea molestias quasi exercitationem repellat qui ipsa sit aut', 'body': 'et iusto sed quo iure\\nvoluptatem occaecati omnis eligendi aut ad\\nvoluptatem doloribus vel accusantium quis pariatur\\nmolestiae porro eius odio et labore et velit aut'}, {'userId': 1, 'id': 4, 'title': 'eum et est occaecati', 'body': 'ullam et saepe reiciendis voluptatem adipisci\\nsit amet autem assumenda provident rerum culpa\\nquis hic commodi nesciunt rem tenetur doloremque ipsam iure\\nquis sunt voluptatem rerum illo velit'}, {'userId': 1, 'id': 5, 'title': 'nesciunt quas odio', 'body': 'repudiandae veniam quaerat sunt sed\\nalias aut fugiat sit autem sed est\\nvoluptatem omnis possimus esse voluptatibus quis\\nest aut tenetur dolor neque'}, {'userId': 1, 'id': 6, 'title': 'dolorem eum magni eos aperiam quia', 'body': 'ut aspernatur corporis harum nihil quis provident sequi\\nmollitia nobis aliquid molestiae\\nperspiciatis et ea nemo ab reprehenderit accusantium quas\\nvoluptate dolores velit et doloremque molestiae'}, {'userId': 1, 'id': 7, 'title': 'magnam facilis autem', 'body': 'dolore placeat quibusdam ea quo vitae\\nmagni quis enim qui quis quo nemo aut saepe\\nquidem repellat excepturi ut quia\\nsunt ut sequi eos ea sed quas'}, {'userId': 1, 'id': 8, 'title': 'dolorem dolore est ipsam', 'body': 'dignissimos aperiam dolorem qui eum\\nfacilis quibusdam animi sint suscipit qui sint possimus cum\\nquaerat magni maiores excepturi\\nipsam ut commodi dolor voluptatum modi aut vitae'}, {'userId': 1, 'id': 9, 'title': 'nesciunt iure omnis dolorem tempora et accusantium', 'body': 'consectetur animi nesciunt iure dolore\\nenim quia ad\\nveniam autem ut quam aut nobis\\net est aut quod aut provident voluptas autem voluptas'}, {'userId': 1, 'id': 10, 'title': 'optio molestias id quia eum', 'body': 'quo et expedita modi cum officia vel magni\\ndoloribus qui repudiandae\\nvero nisi sit\\nquos veniam quod sed accusamus veritatis error'}]\n"
     ]
    }
   ],
   "source": [
    "import requests\n",
    "\n",
    "# URL of the API endpoint\n",
    "url = \"https://jsonplaceholder.typicode.com/posts\"\n",
    "\n",
    "# Query parameters\n",
    "params = {\n",
    "    \"userId\": 1\n",
    "}\n",
    "\n",
    "# Sending a GET request with query parameters\n",
    "response = requests.get(url, params=params)\n",
    "\n",
    "# Checking the status code of the response\n",
    "if response.status_code == 200:\n",
    "    data = response.json()\n",
    "    print(data)\n",
    "else:\n",
    "    print(\"Failed to retrieve data\")"
   ]
  },
  {
   "cell_type": "markdown",
   "id": "1026b38c",
   "metadata": {},
   "source": [
    "### Crypto API"
   ]
  },
  {
   "cell_type": "code",
   "execution_count": 18,
   "id": "1109185b",
   "metadata": {},
   "outputs": [
    {
     "name": "stdout",
     "output_type": "stream",
     "text": [
      "Bitcoin Price Index (BPI):\n",
      "USD: 60,813.922 USD\n",
      "GBP: 46,225.757 GBP\n",
      "EUR: 54,936.378 EUR\n"
     ]
    }
   ],
   "source": [
    "import requests\n",
    "\n",
    "# URL of the API endpoint\n",
    "url = \"https://api.coindesk.com/v1/bpi/currentprice.json\"\n",
    "\n",
    "# Sending a GET request\n",
    "response = requests.get(url)\n",
    "\n",
    "# Checking the status code of the response\n",
    "if response.status_code == 200:\n",
    "    data = response.json()\n",
    "    print(\"Bitcoin Price Index (BPI):\")\n",
    "    print(f\"USD: {data['bpi']['USD']['rate']} USD\")\n",
    "    print(f\"GBP: {data['bpi']['GBP']['rate']} GBP\")\n",
    "    print(f\"EUR: {data['bpi']['EUR']['rate']} EUR\")\n",
    "else:\n",
    "    print(\"Failed to retrieve data\")"
   ]
  },
  {
   "cell_type": "markdown",
   "id": "4d15eb1a",
   "metadata": {},
   "source": [
    "### Currency Conversion API"
   ]
  },
  {
   "cell_type": "code",
   "execution_count": 13,
   "id": "c8bca731",
   "metadata": {},
   "outputs": [
    {
     "data": {
      "text/plain": [
       "<Response [200]>"
      ]
     },
     "execution_count": 13,
     "metadata": {},
     "output_type": "execute_result"
    }
   ],
   "source": [
    "# URL of the API endpoint\n",
    "\n",
    "app_id=\"454beb31ba984e2a902348b141019e8d\" # place your app id here\n",
    "url = f\"https://openexchangerates.org/api/latest.json?app_id={app_id}\"\n",
    "\n",
    "# Sending a GET request\n",
    "response = requests.get(url)\n",
    "response"
   ]
  },
  {
   "cell_type": "code",
   "execution_count": 14,
   "id": "fe9c4c2e",
   "metadata": {
    "scrolled": false
   },
   "outputs": [
    {
     "data": {
      "text/plain": [
       "{'disclaimer': 'Usage subject to terms: https://openexchangerates.org/terms',\n",
       " 'license': 'https://openexchangerates.org/license',\n",
       " 'timestamp': 1724947200,\n",
       " 'base': 'USD',\n",
       " 'rates': {'AED': 3.673,\n",
       "  'AFN': 70.870909,\n",
       "  'ALL': 90.27085,\n",
       "  'AMD': 389.018748,\n",
       "  'ANG': 1.807223,\n",
       "  'AOA': 904.54,\n",
       "  'ARS': 949.2448,\n",
       "  'AUD': 1.469475,\n",
       "  'AWG': 1.8,\n",
       "  'AZN': 1.7,\n",
       "  'BAM': 1.762625,\n",
       "  'BBD': 2,\n",
       "  'BDT': 119.831722,\n",
       "  'BGN': 1.7656,\n",
       "  'BHD': 0.376895,\n",
       "  'BIF': 2883,\n",
       "  'BMD': 1,\n",
       "  'BND': 1.304364,\n",
       "  'BOB': 6.92902,\n",
       "  'BRL': 5.6361,\n",
       "  'BSD': 1,\n",
       "  'BTC': 1.6446453e-05,\n",
       "  'BTN': 84.070591,\n",
       "  'BWP': 13.299357,\n",
       "  'BYN': 3.281721,\n",
       "  'BZD': 2.021289,\n",
       "  'CAD': 1.346327,\n",
       "  'CDF': 2850,\n",
       "  'CHF': 0.84671,\n",
       "  'CLF': 0.033242,\n",
       "  'CLP': 917.34,\n",
       "  'CNH': 7.09387,\n",
       "  'CNY': 7.098,\n",
       "  'COP': 4137.82,\n",
       "  'CRC': 520.39467,\n",
       "  'CUC': 1,\n",
       "  'CUP': 25.75,\n",
       "  'CVE': 99.725,\n",
       "  'CZK': 22.609306,\n",
       "  'DJF': 177.5,\n",
       "  'DKK': 6.728646,\n",
       "  'DOP': 59.7,\n",
       "  'DZD': 133.935868,\n",
       "  'EGP': 48.6222,\n",
       "  'ERN': 15,\n",
       "  'ETB': 106.441944,\n",
       "  'EUR': 0.902128,\n",
       "  'FJD': 2.2022,\n",
       "  'FKP': 0.758435,\n",
       "  'GBP': 0.758435,\n",
       "  'GEL': 2.695,\n",
       "  'GGP': 0.758435,\n",
       "  'GHS': 15.693805,\n",
       "  'GIP': 0.758435,\n",
       "  'GMD': 70,\n",
       "  'GNF': 8650.255915,\n",
       "  'GTQ': 7.756884,\n",
       "  'GYD': 209.787693,\n",
       "  'HKD': 7.798055,\n",
       "  'HNL': 24.82,\n",
       "  'HRK': 6.798912,\n",
       "  'HTG': 132.216492,\n",
       "  'HUF': 354.490715,\n",
       "  'IDR': 15461.96366,\n",
       "  'ILS': 3.65985,\n",
       "  'IMP': 0.758435,\n",
       "  'INR': 83.876646,\n",
       "  'IQD': 1313.731241,\n",
       "  'IRR': 42105,\n",
       "  'ISK': 137.94,\n",
       "  'JEP': 0.758435,\n",
       "  'JMD': 157.445306,\n",
       "  'JOD': 0.7087,\n",
       "  'JPY': 144.99154545,\n",
       "  'KES': 129.11,\n",
       "  'KGS': 85.0566,\n",
       "  'KHR': 4072.671263,\n",
       "  'KMF': 443.049895,\n",
       "  'KPW': 900,\n",
       "  'KRW': 1332.45603,\n",
       "  'KWD': 0.305512,\n",
       "  'KYD': 0.835683,\n",
       "  'KZT': 482.822166,\n",
       "  'LAK': 22150.693498,\n",
       "  'LBP': 89803.59262,\n",
       "  'LKR': 300.909526,\n",
       "  'LRD': 195.249991,\n",
       "  'LSL': 17.737244,\n",
       "  'LYD': 4.755,\n",
       "  'MAD': 9.728008,\n",
       "  'MDL': 17.399005,\n",
       "  'MGA': 4585.820634,\n",
       "  'MKD': 55.591395,\n",
       "  'MMK': 2098,\n",
       "  'MNT': 3398,\n",
       "  'MOP': 8.051689,\n",
       "  'MRU': 39.7,\n",
       "  'MUR': 46.199997,\n",
       "  'MVR': 15.36,\n",
       "  'MWK': 1738.82042,\n",
       "  'MXN': 19.795452,\n",
       "  'MYR': 4.311,\n",
       "  'MZN': 63.899991,\n",
       "  'NAD': 17.737565,\n",
       "  'NGN': 1592.23,\n",
       "  'NIO': 36.913705,\n",
       "  'NOK': 10.493835,\n",
       "  'NPR': 134.512551,\n",
       "  'NZD': 1.595989,\n",
       "  'OMR': 0.384982,\n",
       "  'PAB': 1,\n",
       "  'PEN': 3.751677,\n",
       "  'PGK': 3.963277,\n",
       "  'PHP': 56.212998,\n",
       "  'PKR': 279.372429,\n",
       "  'PLN': 3.864803,\n",
       "  'PYG': 7672.567299,\n",
       "  'QAR': 3.641,\n",
       "  'RON': 4.4911,\n",
       "  'RSD': 105.584,\n",
       "  'RUB': 92.000469,\n",
       "  'RWF': 1332.014553,\n",
       "  'SAR': 3.752646,\n",
       "  'SBD': 8.418105,\n",
       "  'SCR': 13.303005,\n",
       "  'SDG': 601.5,\n",
       "  'SEK': 10.223448,\n",
       "  'SGD': 1.302195,\n",
       "  'SHP': 0.758435,\n",
       "  'SLL': 20969.5,\n",
       "  'SOS': 573.070509,\n",
       "  'SRD': 28.815,\n",
       "  'SSP': 130.26,\n",
       "  'STD': 22281.8,\n",
       "  'STN': 22.5,\n",
       "  'SVC': 8.774308,\n",
       "  'SYP': 2512.53,\n",
       "  'SZL': 17.730669,\n",
       "  'THB': 33.93525,\n",
       "  'TJS': 10.700011,\n",
       "  'TMT': 3.51,\n",
       "  'TND': 3.0485,\n",
       "  'TOP': 2.340469,\n",
       "  'TRY': 34.080716,\n",
       "  'TTD': 6.803446,\n",
       "  'TWD': 31.872114,\n",
       "  'TZS': 2710,\n",
       "  'UAH': 41.330931,\n",
       "  'UGX': 3725.826813,\n",
       "  'USD': 1,\n",
       "  'UYU': 40.26392,\n",
       "  'UZS': 12709.804121,\n",
       "  'VES': 36.545281,\n",
       "  'VND': 24880,\n",
       "  'VUV': 118.722,\n",
       "  'WST': 2.8,\n",
       "  'XAF': 591.757255,\n",
       "  'XAG': 0.03389388,\n",
       "  'XAU': 0.00039641,\n",
       "  'XCD': 2.70255,\n",
       "  'XDR': 0.743064,\n",
       "  'XOF': 591.757255,\n",
       "  'XPD': 0.0010382,\n",
       "  'XPF': 107.65252,\n",
       "  'XPT': 0.00106339,\n",
       "  'YER': 250.325036,\n",
       "  'ZAR': 17.754899,\n",
       "  'ZMW': 26.097211,\n",
       "  'ZWL': 322}}"
      ]
     },
     "execution_count": 14,
     "metadata": {},
     "output_type": "execute_result"
    }
   ],
   "source": [
    "response.json()"
   ]
  }
 ],
 "metadata": {
  "kernelspec": {
   "display_name": "Python 3 (ipykernel)",
   "language": "python",
   "name": "python3"
  },
  "language_info": {
   "codemirror_mode": {
    "name": "ipython",
    "version": 3
   },
   "file_extension": ".py",
   "mimetype": "text/x-python",
   "name": "python",
   "nbconvert_exporter": "python",
   "pygments_lexer": "ipython3",
   "version": "3.10.11"
  }
 },
 "nbformat": 4,
 "nbformat_minor": 5
}
