{
 "cells": [
  {
   "cell_type": "markdown",
   "id": "d8877363",
   "metadata": {},
   "source": [
    "<h2 align=\"center\" style=\"color:blue\">Codebasics Course: Numpy Slicing, Stacking </h2>"
   ]
  },
  {
   "cell_type": "code",
   "execution_count": 1,
   "id": "94c97874",
   "metadata": {},
   "outputs": [],
   "source": [
    "import numpy as np"
   ]
  },
  {
   "cell_type": "markdown",
   "id": "7dc15355",
   "metadata": {},
   "source": [
    "### Indexing, Slicing"
   ]
  },
  {
   "cell_type": "code",
   "execution_count": 14,
   "id": "78f4356a",
   "metadata": {},
   "outputs": [
    {
     "data": {
      "text/plain": [
       "array([6, 7])"
      ]
     },
     "execution_count": 14,
     "metadata": {},
     "output_type": "execute_result"
    }
   ],
   "source": [
    "a = np.array([6,7,8,9])\n",
    "a[0:2]"
   ]
  },
  {
   "cell_type": "code",
   "execution_count": 15,
   "id": "b4fb4ea9",
   "metadata": {},
   "outputs": [
    {
     "data": {
      "text/plain": [
       "array([8, 9])"
      ]
     },
     "execution_count": 15,
     "metadata": {},
     "output_type": "execute_result"
    }
   ],
   "source": [
    "a[2:]"
   ]
  },
  {
   "cell_type": "code",
   "execution_count": 16,
   "id": "65b639e2",
   "metadata": {},
   "outputs": [
    {
     "data": {
      "text/plain": [
       "9"
      ]
     },
     "execution_count": 16,
     "metadata": {},
     "output_type": "execute_result"
    }
   ],
   "source": [
    "a[-1]"
   ]
  },
  {
   "cell_type": "code",
   "execution_count": 17,
   "id": "689cbc48",
   "metadata": {},
   "outputs": [
    {
     "data": {
      "text/plain": [
       "array([8, 9])"
      ]
     },
     "execution_count": 17,
     "metadata": {},
     "output_type": "execute_result"
    }
   ],
   "source": [
    "a[-2:]"
   ]
  },
  {
   "cell_type": "code",
   "execution_count": 18,
   "id": "7024371d",
   "metadata": {},
   "outputs": [],
   "source": [
    "b = np.array([[1, 2, 3], \n",
    "              [4, 5, 6], \n",
    "              [7, 8, 9]])"
   ]
  },
  {
   "cell_type": "code",
   "execution_count": 19,
   "id": "e013a1d0",
   "metadata": {},
   "outputs": [
    {
     "data": {
      "text/plain": [
       "6"
      ]
     },
     "execution_count": 19,
     "metadata": {},
     "output_type": "execute_result"
    }
   ],
   "source": [
    "b[1,2]"
   ]
  },
  {
   "cell_type": "code",
   "execution_count": 20,
   "id": "6c97d11a",
   "metadata": {},
   "outputs": [
    {
     "data": {
      "text/plain": [
       "7"
      ]
     },
     "execution_count": 20,
     "metadata": {},
     "output_type": "execute_result"
    }
   ],
   "source": [
    "b[2,0]"
   ]
  },
  {
   "cell_type": "code",
   "execution_count": 21,
   "id": "6666cdbe",
   "metadata": {},
   "outputs": [
    {
     "data": {
      "text/plain": [
       "array([3, 6])"
      ]
     },
     "execution_count": 21,
     "metadata": {},
     "output_type": "execute_result"
    }
   ],
   "source": [
    "b[0:2,2]"
   ]
  },
  {
   "cell_type": "code",
   "execution_count": 22,
   "id": "7264dd5f",
   "metadata": {},
   "outputs": [
    {
     "data": {
      "text/plain": [
       "array([7, 8, 9])"
      ]
     },
     "execution_count": 22,
     "metadata": {},
     "output_type": "execute_result"
    }
   ],
   "source": [
    "b[-1]"
   ]
  },
  {
   "cell_type": "code",
   "execution_count": 23,
   "id": "299809fd",
   "metadata": {},
   "outputs": [
    {
     "data": {
      "text/plain": [
       "array([7, 8])"
      ]
     },
     "execution_count": 23,
     "metadata": {},
     "output_type": "execute_result"
    }
   ],
   "source": [
    "b[-1, 0:2]"
   ]
  },
  {
   "cell_type": "code",
   "execution_count": 24,
   "id": "1470d3ee",
   "metadata": {},
   "outputs": [
    {
     "data": {
      "text/plain": [
       "array([[2, 3],\n",
       "       [5, 6],\n",
       "       [8, 9]])"
      ]
     },
     "execution_count": 24,
     "metadata": {},
     "output_type": "execute_result"
    }
   ],
   "source": [
    "b[:, 1:3]"
   ]
  },
  {
   "cell_type": "markdown",
   "id": "c58d1629",
   "metadata": {},
   "source": [
    "### vstack, hstack"
   ]
  },
  {
   "cell_type": "code",
   "execution_count": 52,
   "id": "92b45b1f",
   "metadata": {},
   "outputs": [],
   "source": [
    "# Customer ID, Name\n",
    "c = np.array([\n",
    "    [101, 'Mira'],\n",
    "    [102, 'Abdul'],\n",
    "    [103, 'Andrea']\n",
    "])\n",
    "# Customer Id, Purchase Amount, Purchase Date\n",
    "d = np.array([\n",
    "    [101, 250.50, '2023-08-01'],\n",
    "    [102, 150.00, '2023-08-02'],\n",
    "    [103, 300.75, '2023-08-01']\n",
    "])"
   ]
  },
  {
   "cell_type": "code",
   "execution_count": 53,
   "id": "56a41935",
   "metadata": {},
   "outputs": [
    {
     "data": {
      "text/plain": [
       "array([['101', 'Mira', '101', '250.5', '2023-08-01'],\n",
       "       ['102', 'Abdul', '102', '150.0', '2023-08-02'],\n",
       "       ['103', 'Andrea', '103', '300.75', '2023-08-01']], dtype='<U32')"
      ]
     },
     "execution_count": 53,
     "metadata": {},
     "output_type": "execute_result"
    }
   ],
   "source": [
    "np.hstack((c, d))"
   ]
  },
  {
   "cell_type": "code",
   "execution_count": 56,
   "id": "8889329f",
   "metadata": {},
   "outputs": [
    {
     "data": {
      "text/plain": [
       "array([['101', 'Mira'],\n",
       "       ['102', 'Abdul'],\n",
       "       ['103', 'Andrea']], dtype='<U11')"
      ]
     },
     "execution_count": 56,
     "metadata": {},
     "output_type": "execute_result"
    }
   ],
   "source": [
    "c"
   ]
  },
  {
   "cell_type": "code",
   "execution_count": 68,
   "id": "2ff7f728",
   "metadata": {},
   "outputs": [],
   "source": [
    "e = np.array([\n",
    "    [104, 'Venkat'],\n",
    "    [105, 'John'],\n",
    "    [106, 'Kathy'],\n",
    "])"
   ]
  },
  {
   "cell_type": "code",
   "execution_count": 69,
   "id": "f8eb8ea4",
   "metadata": {
    "scrolled": true
   },
   "outputs": [
    {
     "data": {
      "text/plain": [
       "array([['101', 'Mira'],\n",
       "       ['102', 'Abdul'],\n",
       "       ['103', 'Andrea'],\n",
       "       ['104', 'Venkat'],\n",
       "       ['105', 'John'],\n",
       "       ['106', 'Kathy']], dtype='<U11')"
      ]
     },
     "execution_count": 69,
     "metadata": {},
     "output_type": "execute_result"
    }
   ],
   "source": [
    "f = np.vstack((c,e))\n",
    "f"
   ]
  },
  {
   "cell_type": "markdown",
   "id": "8624b43e",
   "metadata": {},
   "source": [
    "### vsplit, hsplit"
   ]
  },
  {
   "cell_type": "code",
   "execution_count": 80,
   "id": "ba36a6dd",
   "metadata": {},
   "outputs": [
    {
     "data": {
      "text/plain": [
       "[array([['101', 'Mohan', '250.5'],\n",
       "        ['102', 'Bob', '150.0'],\n",
       "        ['103', 'Fatima', '300.75'],\n",
       "        ['104', 'David', '400.2'],\n",
       "        ['105', 'Aryan', '330.1']], dtype='<U32'),\n",
       " array([['2023-08-01'],\n",
       "        ['2023-08-02'],\n",
       "        ['2023-08-01'],\n",
       "        ['2023-08-03'],\n",
       "        ['2023-08-04']], dtype='<U32')]"
      ]
     },
     "execution_count": 80,
     "metadata": {},
     "output_type": "execute_result"
    }
   ],
   "source": [
    "transactions = np.array([\n",
    "    [101, 'Mohan', 250.50, '2023-08-01'],\n",
    "    [102, 'Bob', 150.00, '2023-08-02'],\n",
    "    [103, 'Fatima', 300.75, '2023-08-01'],\n",
    "    [104, 'David', 400.20, '2023-08-03'],\n",
    "    [105, 'Aryan', 330.1, '2023-08-04'],\n",
    "])\n",
    "\n",
    "np.hsplit(transactions, [3])"
   ]
  },
  {
   "cell_type": "code",
   "execution_count": 82,
   "id": "814610c1",
   "metadata": {},
   "outputs": [
    {
     "data": {
      "text/plain": [
       "[array([['101', 'Mohan', '250.5', '2023-08-01'],\n",
       "        ['102', 'Bob', '150.0', '2023-08-02'],\n",
       "        ['103', 'Fatima', '300.75', '2023-08-01'],\n",
       "        ['104', 'David', '400.2', '2023-08-03']], dtype='<U32'),\n",
       " array([['105', 'Aryan', '330.1', '2023-08-04']], dtype='<U32')]"
      ]
     },
     "execution_count": 82,
     "metadata": {},
     "output_type": "execute_result"
    }
   ],
   "source": [
    "np.vsplit(transactions, [4])"
   ]
  },
  {
   "cell_type": "markdown",
   "id": "8f4842aa",
   "metadata": {},
   "source": [
    "### Boolean operations"
   ]
  },
  {
   "cell_type": "code",
   "execution_count": 49,
   "id": "6aa9a5d2",
   "metadata": {},
   "outputs": [
    {
     "data": {
      "text/plain": [
       "array([ True, False, False,  True, False])"
      ]
     },
     "execution_count": 49,
     "metadata": {},
     "output_type": "execute_result"
    }
   ],
   "source": [
    "monthly_sales = np.array([30, 33, 35, 28, 42])\n",
    "\n",
    "result = monthly_sales < 32\n",
    "result"
   ]
  },
  {
   "cell_type": "code",
   "execution_count": 50,
   "id": "4d2caa2f",
   "metadata": {},
   "outputs": [
    {
     "data": {
      "text/plain": [
       "array([30, 28])"
      ]
     },
     "execution_count": 50,
     "metadata": {},
     "output_type": "execute_result"
    }
   ],
   "source": [
    "monthly_sales[result]"
   ]
  },
  {
   "cell_type": "code",
   "execution_count": 51,
   "id": "8b31f35e",
   "metadata": {},
   "outputs": [
    {
     "data": {
      "text/plain": [
       "array([-1, 33, 35, -1, 42])"
      ]
     },
     "execution_count": 51,
     "metadata": {},
     "output_type": "execute_result"
    }
   ],
   "source": [
    "monthly_sales[result] = -1\n",
    "monthly_sales"
   ]
  },
  {
   "cell_type": "markdown",
   "id": "0ce1e488",
   "metadata": {},
   "source": [
    "### Argmax"
   ]
  },
  {
   "cell_type": "code",
   "execution_count": 84,
   "id": "8aa72356",
   "metadata": {},
   "outputs": [
    {
     "data": {
      "text/plain": [
       "4"
      ]
     },
     "execution_count": 84,
     "metadata": {},
     "output_type": "execute_result"
    }
   ],
   "source": [
    "index = np.argmax(monthly_sales)\n",
    "index"
   ]
  },
  {
   "cell_type": "code",
   "execution_count": 85,
   "id": "15f500e8",
   "metadata": {
    "scrolled": true
   },
   "outputs": [
    {
     "data": {
      "text/plain": [
       "42"
      ]
     },
     "execution_count": 85,
     "metadata": {},
     "output_type": "execute_result"
    }
   ],
   "source": [
    "monthly_sales[4]"
   ]
  },
  {
   "cell_type": "markdown",
   "id": "9f36de6d",
   "metadata": {},
   "source": [
    "#### Now print a transaction with a maximum amount"
   ]
  },
  {
   "cell_type": "code",
   "execution_count": 86,
   "id": "0f21f0ac",
   "metadata": {},
   "outputs": [
    {
     "data": {
      "text/plain": [
       "array([['101', 'Mohan', '250.5', '2023-08-01'],\n",
       "       ['102', 'Bob', '150.0', '2023-08-02'],\n",
       "       ['103', 'Fatima', '300.75', '2023-08-01'],\n",
       "       ['104', 'David', '400.2', '2023-08-03'],\n",
       "       ['105', 'Aryan', '330.1', '2023-08-04']], dtype='<U32')"
      ]
     },
     "execution_count": 86,
     "metadata": {},
     "output_type": "execute_result"
    }
   ],
   "source": [
    "transactions"
   ]
  },
  {
   "cell_type": "code",
   "execution_count": 87,
   "id": "3cbc74a5",
   "metadata": {},
   "outputs": [
    {
     "data": {
      "text/plain": [
       "array(['250.5', '150.0', '300.75', '400.2', '330.1'], dtype='<U32')"
      ]
     },
     "execution_count": 87,
     "metadata": {},
     "output_type": "execute_result"
    }
   ],
   "source": [
    "transactions[:,2]"
   ]
  },
  {
   "cell_type": "code",
   "execution_count": 88,
   "id": "7b4a108c",
   "metadata": {},
   "outputs": [
    {
     "data": {
      "text/plain": [
       "array([250.5 , 150.  , 300.75, 400.2 , 330.1 ])"
      ]
     },
     "execution_count": 88,
     "metadata": {},
     "output_type": "execute_result"
    }
   ],
   "source": [
    "transactions[:,2].astype(float)"
   ]
  },
  {
   "cell_type": "code",
   "execution_count": 89,
   "id": "1e76385b",
   "metadata": {},
   "outputs": [
    {
     "data": {
      "text/plain": [
       "3"
      ]
     },
     "execution_count": 89,
     "metadata": {},
     "output_type": "execute_result"
    }
   ],
   "source": [
    "t_index = np.argmax(transactions[:,2].astype(float))\n",
    "t_index"
   ]
  },
  {
   "cell_type": "code",
   "execution_count": 90,
   "id": "8d2d7f57",
   "metadata": {},
   "outputs": [
    {
     "data": {
      "text/plain": [
       "array(['104', 'David', '400.2', '2023-08-03'], dtype='<U32')"
      ]
     },
     "execution_count": 90,
     "metadata": {},
     "output_type": "execute_result"
    }
   ],
   "source": [
    "transactions[t_index]"
   ]
  },
  {
   "cell_type": "code",
   "execution_count": 92,
   "id": "b0e49148",
   "metadata": {},
   "outputs": [
    {
     "data": {
      "text/plain": [
       "array([['101', 'Mohan', '250.5', '2023-08-01']], dtype='<U32')"
      ]
     },
     "execution_count": 92,
     "metadata": {},
     "output_type": "execute_result"
    }
   ],
   "source": [
    "transactions[transactions[:,0]==\"101\"]"
   ]
  }
 ],
 "metadata": {
  "kernelspec": {
   "display_name": "Python 3 (ipykernel)",
   "language": "python",
   "name": "python3"
  },
  "language_info": {
   "codemirror_mode": {
    "name": "ipython",
    "version": 3
   },
   "file_extension": ".py",
   "mimetype": "text/x-python",
   "name": "python",
   "nbconvert_exporter": "python",
   "pygments_lexer": "ipython3",
   "version": "3.10.11"
  }
 },
 "nbformat": 4,
 "nbformat_minor": 5
}
