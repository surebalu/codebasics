{
 "cells": [
  {
   "cell_type": "markdown",
   "id": "52c4fbb9",
   "metadata": {},
   "source": [
    "<h2 align=\"center\" style=\"color:blue\">Codebasics Python Course: Numpy Introduction & Benefits </h2>"
   ]
  },
  {
   "cell_type": "code",
   "execution_count": 1,
   "id": "41116cc6",
   "metadata": {},
   "outputs": [],
   "source": [
    "import numpy as np"
   ]
  },
  {
   "cell_type": "code",
   "execution_count": 2,
   "id": "9a528fa6",
   "metadata": {},
   "outputs": [
    {
     "data": {
      "text/plain": [
       "array([1, 2, 3])"
      ]
     },
     "execution_count": 2,
     "metadata": {},
     "output_type": "execute_result"
    }
   ],
   "source": [
    "arr = np.array([1,2,3])\n",
    "arr"
   ]
  },
  {
   "cell_type": "markdown",
   "id": "19fe0b52",
   "metadata": {},
   "source": [
    "<h3 align=\"center\">Numpy Array vs Python List</h3>"
   ]
  },
  {
   "cell_type": "markdown",
   "id": "6926434c",
   "metadata": {},
   "source": [
    "### Benefit # 1: Less Memory"
   ]
  },
  {
   "cell_type": "code",
   "execution_count": 7,
   "id": "65286c87",
   "metadata": {},
   "outputs": [
    {
     "data": {
      "text/plain": [
       "[0, 1, 2, 3]"
      ]
     },
     "execution_count": 7,
     "metadata": {},
     "output_type": "execute_result"
    }
   ],
   "source": [
    "import sys\n",
    "\n",
    "python_list = list(range(100))\n",
    "python_list[:4]"
   ]
  },
  {
   "cell_type": "code",
   "execution_count": 8,
   "id": "682da2b9",
   "metadata": {},
   "outputs": [
    {
     "data": {
      "text/plain": [
       "24"
      ]
     },
     "execution_count": 8,
     "metadata": {},
     "output_type": "execute_result"
    }
   ],
   "source": [
    "sys.getsizeof(python_list[0])"
   ]
  },
  {
   "cell_type": "code",
   "execution_count": 9,
   "id": "68d6d06d",
   "metadata": {},
   "outputs": [
    {
     "data": {
      "text/plain": [
       "2400"
      ]
     },
     "execution_count": 9,
     "metadata": {},
     "output_type": "execute_result"
    }
   ],
   "source": [
    "sys.getsizeof(python_list[0])*len(python_list)"
   ]
  },
  {
   "cell_type": "code",
   "execution_count": 14,
   "id": "b28cc4e6",
   "metadata": {},
   "outputs": [
    {
     "data": {
      "text/plain": [
       "array([0, 1, 2, 3])"
      ]
     },
     "execution_count": 14,
     "metadata": {},
     "output_type": "execute_result"
    }
   ],
   "source": [
    "numpy_array = np.arange(100)\n",
    "numpy_array[:4]"
   ]
  },
  {
   "cell_type": "code",
   "execution_count": 15,
   "id": "cb42ceef",
   "metadata": {},
   "outputs": [
    {
     "data": {
      "text/plain": [
       "400"
      ]
     },
     "execution_count": 15,
     "metadata": {},
     "output_type": "execute_result"
    }
   ],
   "source": [
    "numpy_array.nbytes"
   ]
  },
  {
   "cell_type": "markdown",
   "id": "2183e109",
   "metadata": {},
   "source": [
    "As you can see above while numpy array occupies only 400 bytes, the same size list in Python will require 2400 bytes. This shows that numpy arrays are memory efficient"
   ]
  },
  {
   "cell_type": "markdown",
   "id": "507a9270",
   "metadata": {},
   "source": [
    "### Benefit # 2: Speed"
   ]
  },
  {
   "cell_type": "code",
   "execution_count": 25,
   "id": "098f43eb",
   "metadata": {},
   "outputs": [
    {
     "name": "stdout",
     "output_type": "stream",
     "text": [
      "Python list took:  0.0516204833984375\n"
     ]
    }
   ],
   "source": [
    "import time\n",
    "\n",
    "SIZE = 1000000\n",
    "\n",
    "l1 = list(range(SIZE))\n",
    "l2 = list(range(SIZE))\n",
    "\n",
    "start_time = time.time()\n",
    "l3 = [x+y for x, y in zip(l1, l2)]\n",
    "end_time = time.time()\n",
    "print(\"Python list took: \", end_time-start_time)"
   ]
  },
  {
   "cell_type": "code",
   "execution_count": 26,
   "id": "8eb2c675",
   "metadata": {},
   "outputs": [
    {
     "data": {
      "text/plain": [
       "(array([0, 1, 2]), array([0, 1, 2]))"
      ]
     },
     "execution_count": 26,
     "metadata": {},
     "output_type": "execute_result"
    }
   ],
   "source": [
    "n1 = np.arange(SIZE)\n",
    "n2 = np.arange(SIZE)\n",
    "n1[:3], n2[:3]"
   ]
  },
  {
   "cell_type": "code",
   "execution_count": 36,
   "id": "b88b87ba",
   "metadata": {},
   "outputs": [
    {
     "name": "stdout",
     "output_type": "stream",
     "text": [
      "Numpy array took:  0.0021076202392578125\n"
     ]
    }
   ],
   "source": [
    "start_time = time.time()\n",
    "n3 = n1 + n2\n",
    "end_time = time.time()\n",
    "print(\"Numpy array took: \", end_time-start_time)"
   ]
  },
  {
   "cell_type": "markdown",
   "id": "c51a67f0",
   "metadata": {},
   "source": [
    "### Benefit # 3: Convenient Use with Built In Functions"
   ]
  },
  {
   "cell_type": "code",
   "execution_count": 38,
   "id": "ce4e19bc",
   "metadata": {
    "scrolled": true
   },
   "outputs": [
    {
     "data": {
      "text/plain": [
       "([0, 1, 2], [0, 1, 2])"
      ]
     },
     "execution_count": 38,
     "metadata": {},
     "output_type": "execute_result"
    }
   ],
   "source": [
    "l1 = list(range(5))\n",
    "l2 = list(range(5))\n",
    "l1[:3], l2[:3]"
   ]
  },
  {
   "cell_type": "code",
   "execution_count": 39,
   "id": "15e1c33e",
   "metadata": {},
   "outputs": [
    {
     "data": {
      "text/plain": [
       "[0, 1, 2, 3, 4, 0, 1, 2, 3, 4]"
      ]
     },
     "execution_count": 39,
     "metadata": {},
     "output_type": "execute_result"
    }
   ],
   "source": [
    "l1 + l2"
   ]
  },
  {
   "cell_type": "code",
   "execution_count": 40,
   "id": "4fab6652",
   "metadata": {},
   "outputs": [
    {
     "data": {
      "text/plain": [
       "[0, 2, 4, 6, 8]"
      ]
     },
     "execution_count": 40,
     "metadata": {},
     "output_type": "execute_result"
    }
   ],
   "source": [
    "l3 = [x+y for x, y in zip(l1, l2)]\n",
    "l3"
   ]
  },
  {
   "cell_type": "code",
   "execution_count": 44,
   "id": "10fa1133",
   "metadata": {},
   "outputs": [
    {
     "data": {
      "text/plain": [
       "(array([0, 1, 2, 3, 4]), array([0, 1, 2, 3, 4]))"
      ]
     },
     "execution_count": 44,
     "metadata": {},
     "output_type": "execute_result"
    }
   ],
   "source": [
    "n1 = np.arange(5)\n",
    "n2 = np.arange(5)\n",
    "n1, n2"
   ]
  },
  {
   "cell_type": "code",
   "execution_count": 46,
   "id": "7aaf50ab",
   "metadata": {},
   "outputs": [
    {
     "data": {
      "text/plain": [
       "array([0, 2, 4, 6, 8])"
      ]
     },
     "execution_count": 46,
     "metadata": {},
     "output_type": "execute_result"
    }
   ],
   "source": [
    "n3 = n1 + n2\n",
    "n3"
   ]
  },
  {
   "cell_type": "code",
   "execution_count": 47,
   "id": "821467e8",
   "metadata": {},
   "outputs": [
    {
     "data": {
      "text/plain": [
       "array([ 0,  1,  4,  9, 16])"
      ]
     },
     "execution_count": 47,
     "metadata": {},
     "output_type": "execute_result"
    }
   ],
   "source": [
    "n3 = n1*n2\n",
    "n3"
   ]
  }
 ],
 "metadata": {
  "kernelspec": {
   "display_name": "Python 3 (ipykernel)",
   "language": "python",
   "name": "python3"
  },
  "language_info": {
   "codemirror_mode": {
    "name": "ipython",
    "version": 3
   },
   "file_extension": ".py",
   "mimetype": "text/x-python",
   "name": "python",
   "nbconvert_exporter": "python",
   "pygments_lexer": "ipython3",
   "version": "3.10.11"
  }
 },
 "nbformat": 4,
 "nbformat_minor": 5
}
