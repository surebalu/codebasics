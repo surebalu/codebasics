{
 "cells": [
  {
   "cell_type": "code",
   "execution_count": 1,
   "id": "bc3a647c",
   "metadata": {},
   "outputs": [],
   "source": [
    "import numpy as np"
   ]
  },
  {
   "cell_type": "markdown",
   "id": "ab3beac0",
   "metadata": {},
   "source": [
    "### Multiple dimensions in numpy arrays"
   ]
  },
  {
   "cell_type": "code",
   "execution_count": 72,
   "id": "46d1c416",
   "metadata": {},
   "outputs": [
    {
     "data": {
      "text/plain": [
       "1"
      ]
     },
     "execution_count": 72,
     "metadata": {},
     "output_type": "execute_result"
    }
   ],
   "source": [
    "# revenues of quarter 1\n",
    "rev_q1 = np.array([10, 12, 9])\n",
    "rev_q1.ndim"
   ]
  },
  {
   "cell_type": "code",
   "execution_count": 73,
   "id": "944b0463",
   "metadata": {},
   "outputs": [
    {
     "data": {
      "text/plain": [
       "2"
      ]
     },
     "execution_count": 73,
     "metadata": {},
     "output_type": "execute_result"
    }
   ],
   "source": [
    "# revenues of quarter 1 and 2\n",
    "rev = np.array([[10, 12, 9],[15, 11, 13]])\n",
    "rev.ndim"
   ]
  },
  {
   "cell_type": "markdown",
   "id": "e5dba546",
   "metadata": {},
   "source": [
    "### Indexing"
   ]
  },
  {
   "cell_type": "code",
   "execution_count": 74,
   "id": "6798f244",
   "metadata": {},
   "outputs": [
    {
     "data": {
      "text/plain": [
       "15"
      ]
     },
     "execution_count": 74,
     "metadata": {},
     "output_type": "execute_result"
    }
   ],
   "source": [
    "# find revenues of first month of second quarter\n",
    "rev[1,0]"
   ]
  },
  {
   "cell_type": "code",
   "execution_count": 75,
   "id": "69fbb8f3",
   "metadata": {
    "scrolled": false
   },
   "outputs": [
    {
     "data": {
      "text/plain": [
       "array([[10, 12,  9],\n",
       "       [14, 11, 13]])"
      ]
     },
     "execution_count": 75,
     "metadata": {},
     "output_type": "execute_result"
    }
   ],
   "source": [
    "# update revenue of first month of second quarter\n",
    "rev[1,0] = 14\n",
    "rev"
   ]
  },
  {
   "cell_type": "markdown",
   "id": "3247ddb9",
   "metadata": {},
   "source": [
    "### Data type"
   ]
  },
  {
   "cell_type": "code",
   "execution_count": 76,
   "id": "ad073686",
   "metadata": {
    "scrolled": true
   },
   "outputs": [
    {
     "data": {
      "text/plain": [
       "dtype('int32')"
      ]
     },
     "execution_count": 76,
     "metadata": {},
     "output_type": "execute_result"
    }
   ],
   "source": [
    "rev.dtype"
   ]
  },
  {
   "cell_type": "code",
   "execution_count": 77,
   "id": "6f83ea05",
   "metadata": {},
   "outputs": [
    {
     "data": {
      "text/plain": [
       "4"
      ]
     },
     "execution_count": 77,
     "metadata": {},
     "output_type": "execute_result"
    }
   ],
   "source": [
    "rev.itemsize"
   ]
  },
  {
   "cell_type": "code",
   "execution_count": 78,
   "id": "789e7dd7",
   "metadata": {},
   "outputs": [
    {
     "data": {
      "text/plain": [
       "dtype('float64')"
      ]
     },
     "execution_count": 78,
     "metadata": {},
     "output_type": "execute_result"
    }
   ],
   "source": [
    "rev = np.array([[10, 12, 9],[15, 11, 13]], dtype=np.float64)\n",
    "rev.dtype"
   ]
  },
  {
   "cell_type": "code",
   "execution_count": 79,
   "id": "148181a4",
   "metadata": {},
   "outputs": [
    {
     "data": {
      "text/plain": [
       "8"
      ]
     },
     "execution_count": 79,
     "metadata": {},
     "output_type": "execute_result"
    }
   ],
   "source": [
    "rev.itemsize"
   ]
  },
  {
   "cell_type": "code",
   "execution_count": 80,
   "id": "ee634be9",
   "metadata": {},
   "outputs": [
    {
     "data": {
      "text/plain": [
       "6"
      ]
     },
     "execution_count": 80,
     "metadata": {},
     "output_type": "execute_result"
    }
   ],
   "source": [
    "rev.size"
   ]
  },
  {
   "cell_type": "code",
   "execution_count": 81,
   "id": "ebdf552f",
   "metadata": {
    "scrolled": true
   },
   "outputs": [
    {
     "data": {
      "text/plain": [
       "(2, 3)"
      ]
     },
     "execution_count": 81,
     "metadata": {},
     "output_type": "execute_result"
    }
   ],
   "source": [
    "rev.shape"
   ]
  },
  {
   "cell_type": "markdown",
   "id": "213ffbce",
   "metadata": {},
   "source": [
    "### Sorting"
   ]
  },
  {
   "cell_type": "code",
   "execution_count": 113,
   "id": "4e6e60ef",
   "metadata": {},
   "outputs": [
    {
     "data": {
      "text/plain": [
       "array([ 9., 10., 11., 12., 13., 15.])"
      ]
     },
     "execution_count": 113,
     "metadata": {},
     "output_type": "execute_result"
    }
   ],
   "source": [
    "np.sort(rev, axis=None)"
   ]
  },
  {
   "cell_type": "markdown",
   "id": "3db6c140",
   "metadata": {},
   "source": [
    "### Zeros, Ones, arange, linspace"
   ]
  },
  {
   "cell_type": "code",
   "execution_count": 32,
   "id": "adc7e899",
   "metadata": {},
   "outputs": [
    {
     "data": {
      "text/plain": [
       "array([[0., 0., 0., 0.],\n",
       "       [0., 0., 0., 0.],\n",
       "       [0., 0., 0., 0.]])"
      ]
     },
     "execution_count": 32,
     "metadata": {},
     "output_type": "execute_result"
    }
   ],
   "source": [
    "# this kind of array is useful to initialize neural network weights\n",
    "np.zeros((3,4))"
   ]
  },
  {
   "cell_type": "code",
   "execution_count": 31,
   "id": "64e8990a",
   "metadata": {},
   "outputs": [
    {
     "data": {
      "text/plain": [
       "array([[1., 1., 1., 1.],\n",
       "       [1., 1., 1., 1.],\n",
       "       [1., 1., 1., 1.]])"
      ]
     },
     "execution_count": 31,
     "metadata": {},
     "output_type": "execute_result"
    }
   ],
   "source": [
    "np.ones((3,4))"
   ]
  },
  {
   "cell_type": "code",
   "execution_count": 33,
   "id": "f0666dab",
   "metadata": {},
   "outputs": [
    {
     "data": {
      "text/plain": [
       "array([0, 1, 2])"
      ]
     },
     "execution_count": 33,
     "metadata": {},
     "output_type": "execute_result"
    }
   ],
   "source": [
    "np.arange(3)"
   ]
  },
  {
   "cell_type": "code",
   "execution_count": 35,
   "id": "f66ff458",
   "metadata": {},
   "outputs": [
    {
     "data": {
      "text/plain": [
       "array([20, 21, 22, 23, 24, 25, 26, 27, 28, 29])"
      ]
     },
     "execution_count": 35,
     "metadata": {},
     "output_type": "execute_result"
    }
   ],
   "source": [
    "np.arange(20,30)"
   ]
  },
  {
   "cell_type": "code",
   "execution_count": 36,
   "id": "6a528c07",
   "metadata": {
    "scrolled": true
   },
   "outputs": [
    {
     "data": {
      "text/plain": [
       "array([20, 22, 24, 26, 28])"
      ]
     },
     "execution_count": 36,
     "metadata": {},
     "output_type": "execute_result"
    }
   ],
   "source": [
    "np.arange(20,30,2)"
   ]
  },
  {
   "cell_type": "code",
   "execution_count": 40,
   "id": "1503f8a3",
   "metadata": {
    "scrolled": true
   },
   "outputs": [
    {
     "data": {
      "text/plain": [
       "array([10.        , 14.44444444, 18.88888889, 23.33333333, 27.77777778,\n",
       "       32.22222222, 36.66666667, 41.11111111, 45.55555556, 50.        ])"
      ]
     },
     "execution_count": 40,
     "metadata": {},
     "output_type": "execute_result"
    }
   ],
   "source": [
    "np.linspace(10,50,10)"
   ]
  },
  {
   "cell_type": "markdown",
   "id": "268e14a7",
   "metadata": {},
   "source": [
    "### flatten, reshape, min, max"
   ]
  },
  {
   "cell_type": "code",
   "execution_count": 82,
   "id": "64100fb8",
   "metadata": {},
   "outputs": [
    {
     "data": {
      "text/plain": [
       "array([[10., 12.,  9.],\n",
       "       [15., 11., 13.]])"
      ]
     },
     "execution_count": 82,
     "metadata": {},
     "output_type": "execute_result"
    }
   ],
   "source": [
    "rev"
   ]
  },
  {
   "cell_type": "code",
   "execution_count": 83,
   "id": "94ae8002",
   "metadata": {},
   "outputs": [
    {
     "data": {
      "text/plain": [
       "array([10., 12.,  9., 15., 11., 13.])"
      ]
     },
     "execution_count": 83,
     "metadata": {},
     "output_type": "execute_result"
    }
   ],
   "source": [
    "rev.flatten()"
   ]
  },
  {
   "cell_type": "code",
   "execution_count": 84,
   "id": "d38d6e27",
   "metadata": {},
   "outputs": [
    {
     "data": {
      "text/plain": [
       "array([10., 12.,  9., 15., 11., 13.])"
      ]
     },
     "execution_count": 84,
     "metadata": {},
     "output_type": "execute_result"
    }
   ],
   "source": [
    "rev.ravel()"
   ]
  },
  {
   "cell_type": "code",
   "execution_count": 86,
   "id": "1dcd4901",
   "metadata": {},
   "outputs": [
    {
     "data": {
      "text/plain": [
       "array([[10., 12.],\n",
       "       [ 9., 15.],\n",
       "       [11., 13.]])"
      ]
     },
     "execution_count": 86,
     "metadata": {},
     "output_type": "execute_result"
    }
   ],
   "source": [
    "rev.reshape(3,2)"
   ]
  },
  {
   "cell_type": "code",
   "execution_count": 92,
   "id": "04789c0b",
   "metadata": {
    "scrolled": true
   },
   "outputs": [
    {
     "ename": "ValueError",
     "evalue": "cannot reshape array of size 6 into shape (2,4)",
     "output_type": "error",
     "traceback": [
      "\u001b[1;31m---------------------------------------------------------------------------\u001b[0m",
      "\u001b[1;31mValueError\u001b[0m                                Traceback (most recent call last)",
      "Cell \u001b[1;32mIn[92], line 1\u001b[0m\n\u001b[1;32m----> 1\u001b[0m \u001b[43mrev\u001b[49m\u001b[38;5;241;43m.\u001b[39;49m\u001b[43mreshape\u001b[49m\u001b[43m(\u001b[49m\u001b[38;5;241;43m2\u001b[39;49m\u001b[43m,\u001b[49m\u001b[38;5;241;43m4\u001b[39;49m\u001b[43m)\u001b[49m\n",
      "\u001b[1;31mValueError\u001b[0m: cannot reshape array of size 6 into shape (2,4)"
     ]
    }
   ],
   "source": [
    "rev.reshape(2,4)"
   ]
  },
  {
   "cell_type": "code",
   "execution_count": 88,
   "id": "ec874bc2",
   "metadata": {},
   "outputs": [
    {
     "data": {
      "text/plain": [
       "9.0"
      ]
     },
     "execution_count": 88,
     "metadata": {},
     "output_type": "execute_result"
    }
   ],
   "source": [
    "rev.min() # minimum revenue"
   ]
  },
  {
   "cell_type": "code",
   "execution_count": 89,
   "id": "90590262",
   "metadata": {},
   "outputs": [
    {
     "data": {
      "text/plain": [
       "15.0"
      ]
     },
     "execution_count": 89,
     "metadata": {},
     "output_type": "execute_result"
    }
   ],
   "source": [
    "rev.max() # maximum revenue"
   ]
  },
  {
   "cell_type": "markdown",
   "id": "53ad0b97",
   "metadata": {},
   "source": [
    "### sum"
   ]
  },
  {
   "cell_type": "code",
   "execution_count": 96,
   "id": "084b20e3",
   "metadata": {},
   "outputs": [
    {
     "data": {
      "text/plain": [
       "array([[10., 12.,  9.],\n",
       "       [15., 11., 13.]])"
      ]
     },
     "execution_count": 96,
     "metadata": {},
     "output_type": "execute_result"
    }
   ],
   "source": [
    "rev"
   ]
  },
  {
   "cell_type": "code",
   "execution_count": 100,
   "id": "3533b0f2",
   "metadata": {},
   "outputs": [
    {
     "data": {
      "text/plain": [
       "array([25., 23., 22.])"
      ]
     },
     "execution_count": 100,
     "metadata": {},
     "output_type": "execute_result"
    }
   ],
   "source": [
    "rev.sum(axis=0) # total revenue of first, second and third month of Q1 and Q2"
   ]
  },
  {
   "cell_type": "code",
   "execution_count": 101,
   "id": "c3866ea4",
   "metadata": {},
   "outputs": [
    {
     "data": {
      "text/plain": [
       "array([31., 39.])"
      ]
     },
     "execution_count": 101,
     "metadata": {},
     "output_type": "execute_result"
    }
   ],
   "source": [
    "rev.sum(axis=1) # total Q1 and Q2 revenue"
   ]
  },
  {
   "cell_type": "code",
   "execution_count": 111,
   "id": "201d1670",
   "metadata": {},
   "outputs": [
    {
     "name": "stdout",
     "output_type": "stream",
     "text": [
      "row:  [10. 12.  9.]\n",
      "row:  [15. 11. 13.]\n"
     ]
    }
   ],
   "source": [
    "for row in rev:\n",
    "    print(\"row: \", row)"
   ]
  },
  {
   "cell_type": "code",
   "execution_count": 108,
   "id": "6a8203d9",
   "metadata": {
    "scrolled": true
   },
   "outputs": [
    {
     "data": {
      "text/plain": [
       "array([1., 2., 4.])"
      ]
     },
     "execution_count": 108,
     "metadata": {},
     "output_type": "execute_result"
    }
   ],
   "source": [
    "b = np.array([1,4,16])\n",
    "np.sqrt(b)"
   ]
  },
  {
   "cell_type": "code",
   "execution_count": 109,
   "id": "82e2034c",
   "metadata": {},
   "outputs": [
    {
     "data": {
      "text/plain": [
       "array([  1,  16, 256])"
      ]
     },
     "execution_count": 109,
     "metadata": {},
     "output_type": "execute_result"
    }
   ],
   "source": [
    "np.square(b)"
   ]
  },
  {
   "cell_type": "code",
   "execution_count": 104,
   "id": "57fa9fc4",
   "metadata": {},
   "outputs": [
    {
     "data": {
      "text/plain": [
       "6.48074069840786"
      ]
     },
     "execution_count": 104,
     "metadata": {},
     "output_type": "execute_result"
    }
   ],
   "source": [
    "np.std(b)"
   ]
  }
 ],
 "metadata": {
  "kernelspec": {
   "display_name": "Python 3 (ipykernel)",
   "language": "python",
   "name": "python3"
  },
  "language_info": {
   "codemirror_mode": {
    "name": "ipython",
    "version": 3
   },
   "file_extension": ".py",
   "mimetype": "text/x-python",
   "name": "python",
   "nbconvert_exporter": "python",
   "pygments_lexer": "ipython3",
   "version": "3.10.11"
  }
 },
 "nbformat": 4,
 "nbformat_minor": 5
}
