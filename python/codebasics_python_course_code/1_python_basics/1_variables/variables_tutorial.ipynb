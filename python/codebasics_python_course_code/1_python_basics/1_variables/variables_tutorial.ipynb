{
 "cells": [
  {
   "cell_type": "markdown",
   "id": "5c9c57d1",
   "metadata": {},
   "source": [
    "<h2 align=\"center\" style=\"color:blue\">Codebasics Python Course: Variables</h2>"
   ]
  },
  {
   "cell_type": "markdown",
   "id": "0e98b431",
   "metadata": {},
   "source": [
    "### Variables Introduction: String, Numbers, Boolean"
   ]
  },
  {
   "cell_type": "markdown",
   "id": "a49b1f32",
   "metadata": {},
   "source": [
    "Variables are containers that store some type of data. For example soda can is a container that contains soda"
   ]
  },
  {
   "cell_type": "code",
   "execution_count": 37,
   "id": "92469a37",
   "metadata": {},
   "outputs": [
    {
     "data": {
      "text/plain": [
       "'soda'"
      ]
     },
     "execution_count": 37,
     "metadata": {},
     "output_type": "execute_result"
    }
   ],
   "source": [
    "can = \"soda\"\n",
    "can"
   ]
  },
  {
   "cell_type": "code",
   "execution_count": 38,
   "id": "d46eafc5",
   "metadata": {},
   "outputs": [
    {
     "name": "stdout",
     "output_type": "stream",
     "text": [
      "soda\n"
     ]
    }
   ],
   "source": [
    "print(can)"
   ]
  },
  {
   "cell_type": "code",
   "execution_count": 39,
   "id": "77415e03",
   "metadata": {},
   "outputs": [
    {
     "data": {
      "text/plain": [
       "'beans'"
      ]
     },
     "execution_count": 39,
     "metadata": {},
     "output_type": "execute_result"
    }
   ],
   "source": [
    "can = \"beans\"\n",
    "can"
   ]
  },
  {
   "cell_type": "code",
   "execution_count": 3,
   "id": "317ab541",
   "metadata": {},
   "outputs": [
    {
     "data": {
      "text/plain": [
       "str"
      ]
     },
     "execution_count": 3,
     "metadata": {},
     "output_type": "execute_result"
    }
   ],
   "source": [
    "type(can)"
   ]
  },
  {
   "cell_type": "code",
   "execution_count": 4,
   "id": "918585d2",
   "metadata": {},
   "outputs": [
    {
     "data": {
      "text/plain": [
       "100"
      ]
     },
     "execution_count": 4,
     "metadata": {},
     "output_type": "execute_result"
    }
   ],
   "source": [
    "pizza = 100\n",
    "pizza"
   ]
  },
  {
   "cell_type": "code",
   "execution_count": 7,
   "id": "65bdb004",
   "metadata": {},
   "outputs": [
    {
     "data": {
      "text/plain": [
       "int"
      ]
     },
     "execution_count": 7,
     "metadata": {},
     "output_type": "execute_result"
    }
   ],
   "source": [
    "type(pizza)"
   ]
  },
  {
   "cell_type": "code",
   "execution_count": 11,
   "id": "e8fc8932",
   "metadata": {},
   "outputs": [],
   "source": [
    "samosa=20.5\n",
    "ice_cream=100"
   ]
  },
  {
   "cell_type": "code",
   "execution_count": 6,
   "id": "a38c8e68",
   "metadata": {},
   "outputs": [
    {
     "data": {
      "text/plain": [
       "220.5"
      ]
     },
     "execution_count": 6,
     "metadata": {},
     "output_type": "execute_result"
    }
   ],
   "source": [
    "total = pizza + samosa + ice_cream\n",
    "total"
   ]
  },
  {
   "cell_type": "code",
   "execution_count": 12,
   "id": "a4450514",
   "metadata": {
    "scrolled": true
   },
   "outputs": [
    {
     "data": {
      "text/plain": [
       "float"
      ]
     },
     "execution_count": 12,
     "metadata": {},
     "output_type": "execute_result"
    }
   ],
   "source": [
    "type(total)"
   ]
  },
  {
   "cell_type": "code",
   "execution_count": 14,
   "id": "28d0bde6",
   "metadata": {},
   "outputs": [
    {
     "data": {
      "text/plain": [
       "True"
      ]
     },
     "execution_count": 14,
     "metadata": {},
     "output_type": "execute_result"
    }
   ],
   "source": [
    "above_thresold = total > 200\n",
    "above_thresold"
   ]
  },
  {
   "cell_type": "code",
   "execution_count": 15,
   "id": "3db85c27",
   "metadata": {},
   "outputs": [
    {
     "data": {
      "text/plain": [
       "bool"
      ]
     },
     "execution_count": 15,
     "metadata": {},
     "output_type": "execute_result"
    }
   ],
   "source": [
    "type(above_thresold)"
   ]
  },
  {
   "cell_type": "markdown",
   "id": "5da0a78f",
   "metadata": {},
   "source": [
    "**Integer** is a whole number with no decimal point. e.g. 34, 12, 500\n",
    "\n",
    "**Float** is a number with decimal point. e.g. 1.34, 0.45, 100.5\n",
    "\n",
    "**String** data types store text information\n",
    "\n",
    "**Boolean** type is used to store true or false value"
   ]
  },
  {
   "cell_type": "markdown",
   "id": "7a345ffd",
   "metadata": {},
   "source": [
    "### Everything is an Object in Python"
   ]
  },
  {
   "cell_type": "code",
   "execution_count": 17,
   "id": "3e983282",
   "metadata": {},
   "outputs": [
    {
     "data": {
      "text/plain": [
       "'jalebi'"
      ]
     },
     "execution_count": 17,
     "metadata": {},
     "output_type": "execute_result"
    }
   ],
   "source": [
    "foo = 'jalebi'\n",
    "foo"
   ]
  },
  {
   "cell_type": "code",
   "execution_count": 18,
   "id": "78256dcf",
   "metadata": {},
   "outputs": [
    {
     "data": {
      "text/plain": [
       "'jalebi'"
      ]
     },
     "execution_count": 18,
     "metadata": {},
     "output_type": "execute_result"
    }
   ],
   "source": [
    "bar = foo\n",
    "bar"
   ]
  },
  {
   "cell_type": "code",
   "execution_count": 19,
   "id": "a1a8b6fa",
   "metadata": {},
   "outputs": [
    {
     "data": {
      "text/plain": [
       "2356826482608"
      ]
     },
     "execution_count": 19,
     "metadata": {},
     "output_type": "execute_result"
    }
   ],
   "source": [
    "id(foo)"
   ]
  },
  {
   "cell_type": "code",
   "execution_count": 20,
   "id": "14f50dcc",
   "metadata": {},
   "outputs": [
    {
     "data": {
      "text/plain": [
       "2356826482608"
      ]
     },
     "execution_count": 20,
     "metadata": {},
     "output_type": "execute_result"
    }
   ],
   "source": [
    "id(bar)"
   ]
  },
  {
   "cell_type": "code",
   "execution_count": 25,
   "id": "3b1739f1",
   "metadata": {},
   "outputs": [
    {
     "data": {
      "text/plain": [
       "'samosa'"
      ]
     },
     "execution_count": 25,
     "metadata": {},
     "output_type": "execute_result"
    }
   ],
   "source": [
    "bar = 'samosa'\n",
    "bar"
   ]
  },
  {
   "cell_type": "code",
   "execution_count": 26,
   "id": "d215bff4",
   "metadata": {},
   "outputs": [
    {
     "data": {
      "text/plain": [
       "2356826408048"
      ]
     },
     "execution_count": 26,
     "metadata": {},
     "output_type": "execute_result"
    }
   ],
   "source": [
    "id(bar)"
   ]
  },
  {
   "cell_type": "code",
   "execution_count": 22,
   "id": "3e551682",
   "metadata": {},
   "outputs": [
    {
     "data": {
      "text/plain": [
       "'jalebi'"
      ]
     },
     "execution_count": 22,
     "metadata": {},
     "output_type": "execute_result"
    }
   ],
   "source": [
    "foo"
   ]
  },
  {
   "cell_type": "markdown",
   "id": "17de46d9",
   "metadata": {},
   "source": [
    "### Variable Naming Rules"
   ]
  },
  {
   "cell_type": "markdown",
   "id": "605e29eb",
   "metadata": {},
   "source": [
    "#### 1. Can't use reserved keywords to store variable names"
   ]
  },
  {
   "cell_type": "code",
   "execution_count": 27,
   "id": "5c4aa636",
   "metadata": {},
   "outputs": [
    {
     "ename": "SyntaxError",
     "evalue": "cannot assign to True (3091963775.py, line 1)",
     "output_type": "error",
     "traceback": [
      "\u001b[1;36m  Cell \u001b[1;32mIn[27], line 1\u001b[1;36m\u001b[0m\n\u001b[1;33m    True=5\u001b[0m\n\u001b[1;37m    ^\u001b[0m\n\u001b[1;31mSyntaxError\u001b[0m\u001b[1;31m:\u001b[0m cannot assign to True\n"
     ]
    }
   ],
   "source": [
    "True=5"
   ]
  },
  {
   "cell_type": "code",
   "execution_count": 28,
   "id": "f7774d07",
   "metadata": {
    "scrolled": true
   },
   "outputs": [
    {
     "ename": "SyntaxError",
     "evalue": "invalid syntax (1533978222.py, line 1)",
     "output_type": "error",
     "traceback": [
      "\u001b[1;36m  Cell \u001b[1;32mIn[28], line 1\u001b[1;36m\u001b[0m\n\u001b[1;33m    def = \"Hello\"\u001b[0m\n\u001b[1;37m        ^\u001b[0m\n\u001b[1;31mSyntaxError\u001b[0m\u001b[1;31m:\u001b[0m invalid syntax\n"
     ]
    }
   ],
   "source": [
    "def = \"Hello\""
   ]
  },
  {
   "cell_type": "markdown",
   "id": "c98c9ac6",
   "metadata": {},
   "source": [
    "#### 2. Special characters are not allowed"
   ]
  },
  {
   "cell_type": "code",
   "execution_count": 29,
   "id": "0ee3d2a1",
   "metadata": {},
   "outputs": [
    {
     "ename": "SyntaxError",
     "evalue": "invalid syntax (1667250009.py, line 1)",
     "output_type": "error",
     "traceback": [
      "\u001b[1;36m  Cell \u001b[1;32mIn[29], line 1\u001b[1;36m\u001b[0m\n\u001b[1;33m    $name=\"dhaval\"\u001b[0m\n\u001b[1;37m    ^\u001b[0m\n\u001b[1;31mSyntaxError\u001b[0m\u001b[1;31m:\u001b[0m invalid syntax\n"
     ]
    }
   ],
   "source": [
    "$name=\"dhaval\""
   ]
  },
  {
   "cell_type": "code",
   "execution_count": 31,
   "id": "e54ab05b",
   "metadata": {
    "scrolled": true
   },
   "outputs": [
    {
     "ename": "SyntaxError",
     "evalue": "invalid syntax (2224969571.py, line 1)",
     "output_type": "error",
     "traceback": [
      "\u001b[1;36m  Cell \u001b[1;32mIn[31], line 1\u001b[1;36m\u001b[0m\n\u001b[1;33m    pizza^ = 100\u001b[0m\n\u001b[1;37m           ^\u001b[0m\n\u001b[1;31mSyntaxError\u001b[0m\u001b[1;31m:\u001b[0m invalid syntax\n"
     ]
    }
   ],
   "source": [
    "pizza^ = 100"
   ]
  },
  {
   "cell_type": "markdown",
   "id": "aca506fc",
   "metadata": {},
   "source": [
    "#### 3. Variable names must begin with letter or _"
   ]
  },
  {
   "cell_type": "code",
   "execution_count": 32,
   "id": "fe169797",
   "metadata": {},
   "outputs": [
    {
     "ename": "SyntaxError",
     "evalue": "invalid decimal literal (1975557746.py, line 1)",
     "output_type": "error",
     "traceback": [
      "\u001b[1;36m  Cell \u001b[1;32mIn[32], line 1\u001b[1;36m\u001b[0m\n\u001b[1;33m    4you=\"me\"\u001b[0m\n\u001b[1;37m    ^\u001b[0m\n\u001b[1;31mSyntaxError\u001b[0m\u001b[1;31m:\u001b[0m invalid decimal literal\n"
     ]
    }
   ],
   "source": [
    "4you=\"me\""
   ]
  },
  {
   "cell_type": "code",
   "execution_count": 33,
   "id": "29c817e8",
   "metadata": {},
   "outputs": [
    {
     "ename": "SyntaxError",
     "evalue": "invalid syntax (2488452656.py, line 1)",
     "output_type": "error",
     "traceback": [
      "\u001b[1;36m  Cell \u001b[1;32mIn[33], line 1\u001b[1;36m\u001b[0m\n\u001b[1;33m    $address=\"blah\"\u001b[0m\n\u001b[1;37m    ^\u001b[0m\n\u001b[1;31mSyntaxError\u001b[0m\u001b[1;31m:\u001b[0m invalid syntax\n"
     ]
    }
   ],
   "source": [
    "$address=\"blah\""
   ]
  },
  {
   "cell_type": "markdown",
   "id": "4544810f",
   "metadata": {},
   "source": [
    "#### 4. Remaining characters should be a to z OR A to Z OR 0 to 9 OR _"
   ]
  },
  {
   "cell_type": "code",
   "execution_count": 34,
   "id": "130ddf3f",
   "metadata": {},
   "outputs": [
    {
     "ename": "SyntaxError",
     "evalue": "invalid syntax (3943422283.py, line 1)",
     "output_type": "error",
     "traceback": [
      "\u001b[1;36m  Cell \u001b[1;32mIn[34], line 1\u001b[1;36m\u001b[0m\n\u001b[1;33m    abc$xyz=6\u001b[0m\n\u001b[1;37m       ^\u001b[0m\n\u001b[1;31mSyntaxError\u001b[0m\u001b[1;31m:\u001b[0m invalid syntax\n"
     ]
    }
   ],
   "source": [
    "abc$xyz=6"
   ]
  },
  {
   "cell_type": "markdown",
   "id": "c7f509dc",
   "metadata": {},
   "source": [
    "💡 **Tip: Use Mr. C (i.e. ChatGPT) for help**"
   ]
  }
 ],
 "metadata": {
  "kernelspec": {
   "display_name": "Python 3 (ipykernel)",
   "language": "python",
   "name": "python3"
  },
  "language_info": {
   "codemirror_mode": {
    "name": "ipython",
    "version": 3
   },
   "file_extension": ".py",
   "mimetype": "text/x-python",
   "name": "python",
   "nbconvert_exporter": "python",
   "pygments_lexer": "ipython3",
   "version": "3.10.11"
  }
 },
 "nbformat": 4,
 "nbformat_minor": 5
}
