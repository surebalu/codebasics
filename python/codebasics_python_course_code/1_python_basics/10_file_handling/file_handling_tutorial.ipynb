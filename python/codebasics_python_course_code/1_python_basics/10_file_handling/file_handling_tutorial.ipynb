{
 "cells": [
  {
   "cell_type": "markdown",
   "id": "e7a71dea",
   "metadata": {},
   "source": [
    "### Read the file line by line"
   ]
  },
  {
   "cell_type": "code",
   "execution_count": 16,
   "id": "226c0404",
   "metadata": {},
   "outputs": [
    {
     "name": "stdout",
     "output_type": "stream",
     "text": [
      "Teacher: Why are you late, raghu?\n",
      "\n",
      "Raghu: Because of the sign\n",
      "\n",
      "Teacher: What sign?\n",
      "\n",
      "Raghu: The one that says \"School Ahead, Go slow\"\n"
     ]
    }
   ],
   "source": [
    "# read file\n",
    "f=open(\"funny.txt\",\"r\")\n",
    "for line in f:\n",
    "    print(line)\n",
    "f.close()"
   ]
  },
  {
   "cell_type": "markdown",
   "id": "9ef31259",
   "metadata": {},
   "source": [
    "In the above code you have to do f.close() to deallocate file resource. Sometimes a person may forget to do this. Python provides an easier method for this using with"
   ]
  },
  {
   "cell_type": "markdown",
   "id": "c586fc51",
   "metadata": {},
   "source": [
    "### with statement"
   ]
  },
  {
   "cell_type": "code",
   "execution_count": 17,
   "id": "6ff14768",
   "metadata": {},
   "outputs": [
    {
     "name": "stdout",
     "output_type": "stream",
     "text": [
      "Teacher: Why are you late, raghu?\n",
      "\n",
      "Raghu: Because of the sign\n",
      "\n",
      "Teacher: What sign?\n",
      "\n",
      "Raghu: The one that says \"School Ahead, Go slow\"\n"
     ]
    }
   ],
   "source": [
    "with open(\"funny.txt\",\"r\") as f:\n",
    "    for line in f:\n",
    "        print(line)"
   ]
  },
  {
   "cell_type": "markdown",
   "id": "ab9eaaf9",
   "metadata": {},
   "source": [
    "### readlines"
   ]
  },
  {
   "cell_type": "code",
   "execution_count": 18,
   "id": "7d5ccfdd",
   "metadata": {},
   "outputs": [
    {
     "name": "stdout",
     "output_type": "stream",
     "text": [
      "['Teacher: Why are you late, raghu?\\n', 'Raghu: Because of the sign\\n', 'Teacher: What sign?\\n', 'Raghu: The one that says \"School Ahead, Go slow\"']\n"
     ]
    }
   ],
   "source": [
    "with open(\"funny.txt\",\"r\") as f:\n",
    "    lines = f.readlines()\n",
    "    print(lines)"
   ]
  },
  {
   "cell_type": "markdown",
   "id": "5b1b0630",
   "metadata": {},
   "source": [
    "### write file"
   ]
  },
  {
   "cell_type": "code",
   "execution_count": 19,
   "id": "26ab0915",
   "metadata": {},
   "outputs": [],
   "source": [
    "with open(\"love.txt\",\"w\") as f:\n",
    "    f.write(\"I love python\")"
   ]
  },
  {
   "cell_type": "code",
   "execution_count": 20,
   "id": "d72358aa",
   "metadata": {},
   "outputs": [],
   "source": [
    "# same file when you write i love javascript the previous line goes away\n",
    "with open(\"love.txt\",\"w\") as f:\n",
    "    f.write(\"I love python\")"
   ]
  },
  {
   "cell_type": "code",
   "execution_count": 21,
   "id": "0e002940",
   "metadata": {},
   "outputs": [],
   "source": [
    "# You can use append mode to stop having previous lines overwritten\n",
    "with open(\"love.txt\",\"a\") as f:\n",
    "    f.write(\"I love python\")"
   ]
  },
  {
   "cell_type": "code",
   "execution_count": 22,
   "id": "1d3bb24b",
   "metadata": {},
   "outputs": [],
   "source": [
    "# show a picture of file open modes (12:12 in old video)"
   ]
  },
  {
   "cell_type": "markdown",
   "id": "c1c967e5",
   "metadata": {},
   "source": [
    "### writelines"
   ]
  },
  {
   "cell_type": "code",
   "execution_count": 23,
   "id": "f7b5e760",
   "metadata": {},
   "outputs": [],
   "source": [
    "with open(\"love.txt\",\"w\") as f:\n",
    "    f.writelines([\"I love C++\\n\",\"I love scala\"])"
   ]
  },
  {
   "cell_type": "markdown",
   "id": "9192ed88",
   "metadata": {},
   "source": [
    "### sports data analytics"
   ]
  },
  {
   "cell_type": "code",
   "execution_count": 24,
   "id": "0b952f46",
   "metadata": {},
   "outputs": [
    {
     "data": {
      "text/plain": [
       "{'rohit': [9, 120, 105, 140, 130],\n",
       " 'shakib': [56, 78, 102, 72],\n",
       " 'babar': [56, 45, 120, 5, 67]}"
      ]
     },
     "execution_count": 24,
     "metadata": {},
     "output_type": "execute_result"
    }
   ],
   "source": [
    "player_scores = {}\n",
    "\n",
    "with open(\"scores.csv\",\"r\") as f:\n",
    "    for line in f:\n",
    "        player, _, score = line.split(\",\")\n",
    "        score = int(score.strip())\n",
    "        if player in player_scores:\n",
    "            player_scores[player].append(score)\n",
    "        else:\n",
    "            player_scores[player] = [score]\n",
    "            \n",
    "player_scores"
   ]
  },
  {
   "cell_type": "code",
   "execution_count": 25,
   "id": "d4be5946",
   "metadata": {
    "scrolled": true
   },
   "outputs": [
    {
     "name": "stdout",
     "output_type": "stream",
     "text": [
      "rohit ==> Min:9, Max:140, Avg:100.8\n",
      "shakib ==> Min:56, Max:102, Avg:77.0\n",
      "babar ==> Min:5, Max:120, Avg:58.6\n"
     ]
    }
   ],
   "source": [
    "for player, score_list in player_scores.items():\n",
    "    min_score=min(score_list)\n",
    "    max_score=max(score_list)\n",
    "    avg_score=sum(score_list)/len(score_list)\n",
    "\n",
    "    print(f\"{player} ==> Min:{min_score}, Max:{max_score}, Avg:{avg_score}\")"
   ]
  },
  {
   "cell_type": "markdown",
   "id": "0d1ace97",
   "metadata": {},
   "source": [
    "### remove file"
   ]
  },
  {
   "cell_type": "code",
   "execution_count": 26,
   "id": "7249934b",
   "metadata": {},
   "outputs": [],
   "source": [
    "with open(\"dummy.txt\",\"w\") as f:\n",
    "    f.write(\"whatever\")"
   ]
  },
  {
   "cell_type": "code",
   "execution_count": 27,
   "id": "124e5f1e",
   "metadata": {},
   "outputs": [],
   "source": [
    "import os\n",
    "if os.path.exists(\"dummy.txt\"):\n",
    "    os.remove(\"dummy.txt\")\n",
    "else:\n",
    "    print(\"file does not exist\")"
   ]
  }
 ],
 "metadata": {
  "kernelspec": {
   "display_name": "Python 3 (ipykernel)",
   "language": "python",
   "name": "python3"
  },
  "language_info": {
   "codemirror_mode": {
    "name": "ipython",
    "version": 3
   },
   "file_extension": ".py",
   "mimetype": "text/x-python",
   "name": "python",
   "nbconvert_exporter": "python",
   "pygments_lexer": "ipython3",
   "version": "3.10.11"
  }
 },
 "nbformat": 4,
 "nbformat_minor": 5
}
